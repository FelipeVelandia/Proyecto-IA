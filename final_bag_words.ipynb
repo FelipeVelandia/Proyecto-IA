{
  "nbformat": 4,
  "nbformat_minor": 0,
  "metadata": {
    "colab": {
      "provenance": []
    },
    "kernelspec": {
      "name": "python3",
      "display_name": "Python 3"
    },
    "language_info": {
      "name": "python"
    },
    "accelerator": "GPU",
    "gpuClass": "standard"
  },
  "cells": [
    {
      "cell_type": "code",
      "execution_count": 2,
      "metadata": {
        "id": "j_bK68Hu7JEn",
        "colab": {
          "base_uri": "https://localhost:8080/"
        },
        "outputId": "74b920d1-0d4b-4e37-d213-2eae6ced448a",
        "cellView": "form"
      },
      "outputs": [
        {
          "output_type": "stream",
          "name": "stderr",
          "text": [
            "[nltk_data] Downloading package stopwords to /root/nltk_data...\n",
            "[nltk_data]   Package stopwords is already up-to-date!\n"
          ]
        },
        {
          "output_type": "execute_result",
          "data": {
            "text/plain": [
              "True"
            ]
          },
          "metadata": {},
          "execution_count": 2
        }
      ],
      "source": [
        "#@title Librerias usadas\n",
        "import numpy as np \n",
        "import pandas as pd\n",
        "import matplotlib.pyplot as plt\n",
        "import seaborn as sns\n",
        "from sklearn.naive_bayes import GaussianNB\n",
        "from collections import Counter\n",
        "from sklearn.model_selection import train_test_split\n",
        "from sklearn.metrics import accuracy_score\n",
        "from sklearn.model_selection import cross_val_score\n",
        "from sklearn.model_selection import KFold\n",
        "from sklearn.metrics import *\n",
        "from sklearn.metrics import classification_report\n",
        "from sklearn.tree import DecisionTreeClassifier\n",
        "from sklearn.ensemble import RandomForestClassifier\n",
        "from sklearn.svm import SVC\n",
        "import nltk\n",
        "from nltk.corpus import stopwords\n",
        "from nltk.tokenize import word_tokenize, RegexpTokenizer\n",
        "from sklearn.feature_extraction.text import CountVectorizer\n",
        "import pickle\n",
        "import joblib\n",
        "import tensorflow as tf\n",
        "from tensorflow import keras\n",
        "# Download the NLTK stop words if they haven't been downloaded already\n",
        "nltk.download(\"stopwords\")"
      ]
    },
    {
      "cell_type": "code",
      "source": [
        "#@title Montando Drive\n",
        "from google.colab import drive\n",
        "drive.mount('/content/drive')"
      ],
      "metadata": {
        "colab": {
          "base_uri": "https://localhost:8080/"
        },
        "id": "6SCWh8zsizLs",
        "outputId": "bff09192-88d3-4240-84b5-6b560c0e815e",
        "cellView": "form"
      },
      "execution_count": 3,
      "outputs": [
        {
          "output_type": "stream",
          "name": "stdout",
          "text": [
            "Drive already mounted at /content/drive; to attempt to forcibly remount, call drive.mount(\"/content/drive\", force_remount=True).\n"
          ]
        }
      ]
    },
    {
      "cell_type": "code",
      "source": [
        "#@title Importando dataset\n",
        "Suicide = pd.read_csv('/content/drive/MyDrive/IA I Proyecto final/Suicide_Detection.csv')"
      ],
      "metadata": {
        "id": "DPlM6TOb_rlW",
        "cellView": "form"
      },
      "execution_count": null,
      "outputs": []
    },
    {
      "cell_type": "code",
      "source": [
        "#@title Eliminando columna Unnamed y agregando la longitud de las frases como característica\n",
        "Suicide = Suicide.drop('Unnamed: 0', axis=1);\n",
        "Suicide['Length'] = Suicide['text'].apply(lambda x: len(x.split(' ')))\n",
        "Suicide['class'] = Suicide['class'].map({'suicide': 1, 'non-suicide': 0})"
      ],
      "metadata": {
        "id": "8ctA7XvDBFI3",
        "cellView": "form"
      },
      "execution_count": null,
      "outputs": []
    },
    {
      "cell_type": "code",
      "source": [
        "#@title Separando características y etiquetas\n",
        "X = Suicide['text']\n",
        "y = Suicide['class']"
      ],
      "metadata": {
        "id": "Sp9DsSMtKni0",
        "cellView": "form"
      },
      "execution_count": null,
      "outputs": []
    },
    {
      "cell_type": "code",
      "source": [
        "#@title Preprocesamiento de las frases\n",
        "def preprocess_words(data):\n",
        "  # Convierte todo el texto a minúscula\n",
        "  data = [text.lower() for text in data]\n",
        "\n",
        "  # Remueve signos de puntuación, y crea una matriz separando cada palabra de las frases\n",
        "  tokenizer = RegexpTokenizer(r\"\\w+\")\n",
        "  data = [tokenizer.tokenize(text) for text in data]\n",
        "\n",
        "  # Eliminando palabras más usadas del lenguaje\n",
        "  stop_words = set(stopwords.words(\"english\"))\n",
        "  data = [[word for word in text if word not in stop_words] for text in data]\n",
        "\n",
        "  # Conviertiendo las palabras a su forma básica\n",
        "  from nltk.stem import SnowballStemmer\n",
        "  stemmer = SnowballStemmer(\"english\")\n",
        "  data = [[stemmer.stem(word) for word in text] for text in data]\n",
        "\n",
        "  # Junta cada palabra para volver a armar las frases ya procesadas\n",
        "  data = [\" \".join(text) for text in data]\n",
        "  return data\n",
        "\n",
        "def train_vectorizer(data):\n",
        "  vectorizer = CountVectorizer(min_df=80)\n",
        "\n",
        "  # Entrena un contador de vectores que actua como un kmeans para agrupar y contar palabras\n",
        "  vectorizer.fit(data)\n",
        "\n",
        "  return vectorizer"
      ],
      "metadata": {
        "id": "ILB9fLjn-fZf",
        "cellView": "form"
      },
      "execution_count": 25,
      "outputs": []
    },
    {
      "cell_type": "code",
      "source": [
        "#@title Preprocesando todas las frases del dataset\n",
        "X = preprocess_words(X)"
      ],
      "metadata": {
        "id": "1Fl8aXg0JjD0",
        "cellView": "form"
      },
      "execution_count": null,
      "outputs": []
    },
    {
      "cell_type": "code",
      "source": [
        "#@title Guardando frases preprocesadas en archivos\n",
        "with open('/content/drive/MyDrive/IA I Proyecto final/processed_data', 'wb') as fp:\n",
        "    pickle.dump(X, fp)"
      ],
      "metadata": {
        "id": "_a6XjdtUJ3GW",
        "cellView": "form"
      },
      "execution_count": null,
      "outputs": []
    },
    {
      "cell_type": "code",
      "source": [
        "#@title Guardando etiquetas en archivos\n",
        "with open('/content/drive/MyDrive/IA I Proyecto final/processed_data_y', 'wb') as fp:\n",
        "    pickle.dump(y, fp)"
      ],
      "metadata": {
        "id": "ss1ErTBENFv1",
        "cellView": "form"
      },
      "execution_count": null,
      "outputs": []
    },
    {
      "cell_type": "code",
      "source": [
        "#@title Recuperando características desde los archivos\n",
        "with open ('/content/drive/MyDrive/IA I Proyecto final/processed_data', 'rb') as fp:\n",
        "    X = pickle.load(fp)"
      ],
      "metadata": {
        "id": "pMchQN_LLfBk",
        "cellView": "form"
      },
      "execution_count": 4,
      "outputs": []
    },
    {
      "cell_type": "code",
      "source": [
        "#@title Recuperando etiquetas desde los archivos\n",
        "with open ('/content/drive/MyDrive/IA I Proyecto final/processed_data_y', 'rb') as fp:\n",
        "    y = pickle.load(fp)"
      ],
      "metadata": {
        "id": "dIsUxuqWNJKj",
        "cellView": "form"
      },
      "execution_count": 5,
      "outputs": []
    },
    {
      "cell_type": "code",
      "source": [
        "#@title Obteniendo vectorizer con las palabras contadas (bag of words)\n",
        "vec = train_vectorizer(X)"
      ],
      "metadata": {
        "id": "kZP4MeMWLt5j",
        "cellView": "form"
      },
      "execution_count": 29,
      "outputs": []
    },
    {
      "cell_type": "code",
      "source": [
        "#@title Guardando vectorizer en archivos\n",
        "joblib.dump(vec, '/content/drive/MyDrive/IA I Proyecto final/vectorizer.joblib')"
      ],
      "metadata": {
        "colab": {
          "base_uri": "https://localhost:8080/"
        },
        "id": "4FDkTLiyL_Ml",
        "outputId": "3fc61175-4e5f-4a29-af63-27a821465b90",
        "cellView": "form"
      },
      "execution_count": 30,
      "outputs": [
        {
          "output_type": "execute_result",
          "data": {
            "text/plain": [
              "['/content/drive/MyDrive/IA I Proyecto final/vectorizer.joblib']"
            ]
          },
          "metadata": {},
          "execution_count": 30
        }
      ]
    },
    {
      "cell_type": "code",
      "source": [
        "#@title Obteniendo vectorizer desde archivos\n",
        "vec = joblib.load('/content/drive/MyDrive/IA I Proyecto final/vectorizer.joblib')"
      ],
      "metadata": {
        "id": "oEGiJzjKMJ8H",
        "cellView": "form"
      },
      "execution_count": 6,
      "outputs": []
    },
    {
      "cell_type": "code",
      "source": [
        "#@title Obteniendo datos transformados con el vectorizer (palabras separadas y su frecuencia)\n",
        "X = vec.transform(X)"
      ],
      "metadata": {
        "id": "0Fe5DzTPNSzS",
        "cellView": "form"
      },
      "execution_count": 7,
      "outputs": []
    },
    {
      "cell_type": "code",
      "source": [
        "X.shape"
      ],
      "metadata": {
        "colab": {
          "base_uri": "https://localhost:8080/"
        },
        "id": "naE9HzUgOt_1",
        "outputId": "e731efd4-0579-429f-88c4-a5af15419415"
      },
      "execution_count": 32,
      "outputs": [
        {
          "output_type": "execute_result",
          "data": {
            "text/plain": [
              "(232074, 5663)"
            ]
          },
          "metadata": {},
          "execution_count": 32
        }
      ]
    },
    {
      "cell_type": "code",
      "source": [
        "#@title Separando datos de entrenamiento\n",
        "X_train, X_test, y_train, y_test = train_test_split(X, y, train_size=0.6, random_state=21)\n",
        "del X\n",
        "del y"
      ],
      "metadata": {
        "id": "p0Zyd93EMSnX",
        "cellView": "form"
      },
      "execution_count": 8,
      "outputs": []
    },
    {
      "cell_type": "code",
      "source": [
        "#@title Entrenando Gaussian Naive Bayes\n",
        "GNB = GaussianNB()\n",
        "GNB.fit(X_train.toarray(), y_train)"
      ],
      "metadata": {
        "id": "QTF1ABLGPNhN",
        "colab": {
          "base_uri": "https://localhost:8080/"
        },
        "outputId": "66a3c0e9-9639-463b-b835-2eed595f2b5d",
        "cellView": "form"
      },
      "execution_count": null,
      "outputs": [
        {
          "output_type": "execute_result",
          "data": {
            "text/plain": [
              "GaussianNB()"
            ]
          },
          "metadata": {},
          "execution_count": 10
        }
      ]
    },
    {
      "cell_type": "code",
      "source": [
        "#@title Accuracy GNB\n",
        "print(\"%.3f\"%accuracy_score(GNB.predict(X_test[:2000].toarray()), y_test[:2000]))"
      ],
      "metadata": {
        "colab": {
          "base_uri": "https://localhost:8080/"
        },
        "id": "BXAfa4deUG5F",
        "outputId": "439adfa6-370c-4d11-9c32-a5ea09572e6f",
        "cellView": "form"
      },
      "execution_count": null,
      "outputs": [
        {
          "output_type": "stream",
          "name": "stdout",
          "text": [
            "0.789\n"
          ]
        }
      ]
    },
    {
      "cell_type": "code",
      "source": [
        "#@title Entrenando DecisionTree\n",
        "DT = DecisionTreeClassifier(max_depth=10)\n",
        "DT.fit(X_train,y_train)"
      ],
      "metadata": {
        "colab": {
          "base_uri": "https://localhost:8080/"
        },
        "id": "iNJo0qtITGdD",
        "outputId": "231b8440-8879-40d2-ce11-7384bbd658bd",
        "cellView": "form"
      },
      "execution_count": null,
      "outputs": [
        {
          "output_type": "execute_result",
          "data": {
            "text/plain": [
              "DecisionTreeClassifier(max_depth=10)"
            ]
          },
          "metadata": {},
          "execution_count": 12
        }
      ]
    },
    {
      "cell_type": "code",
      "source": [
        "#@title Accuracy DT\n",
        "print(accuracy_score(DT.predict(X_test[:2000]), y_test[:2000]))"
      ],
      "metadata": {
        "colab": {
          "base_uri": "https://localhost:8080/"
        },
        "id": "I79PTNSgTIQj",
        "outputId": "22b39e47-3929-470e-91d0-1e658d4b0a15",
        "cellView": "form"
      },
      "execution_count": null,
      "outputs": [
        {
          "output_type": "stream",
          "name": "stdout",
          "text": [
            "0.864\n"
          ]
        }
      ]
    },
    {
      "cell_type": "code",
      "source": [
        "#@title Entrenando Random Forest\n",
        "RF = RandomForestClassifier()\n",
        "RF.fit(X_train,y_train)"
      ],
      "metadata": {
        "colab": {
          "base_uri": "https://localhost:8080/"
        },
        "id": "HtbKyQNQTV8s",
        "outputId": "8b1945f5-50b8-435b-e079-0c10a34775a0",
        "cellView": "form"
      },
      "execution_count": null,
      "outputs": [
        {
          "output_type": "execute_result",
          "data": {
            "text/plain": [
              "RandomForestClassifier()"
            ]
          },
          "metadata": {},
          "execution_count": 14
        }
      ]
    },
    {
      "cell_type": "code",
      "source": [
        "#@title Accuracy RF\n",
        "print(accuracy_score(RF.predict(X_test[:2000]), y_test[:2000]))"
      ],
      "metadata": {
        "colab": {
          "base_uri": "https://localhost:8080/"
        },
        "id": "luHkn-4fTclv",
        "outputId": "0c9954d5-60ac-4161-830a-17a439c38f0a",
        "cellView": "form"
      },
      "execution_count": null,
      "outputs": [
        {
          "output_type": "stream",
          "name": "stdout",
          "text": [
            "0.9\n"
          ]
        }
      ]
    },
    {
      "cell_type": "code",
      "source": [
        "#@title Entrenando Support Vector Machine\n",
        "SV = SVC()\n",
        "SV.fit(X_train,y_train)"
      ],
      "metadata": {
        "colab": {
          "base_uri": "https://localhost:8080/"
        },
        "id": "skozlT6iZWWR",
        "outputId": "b0a66928-9b50-4e20-f96f-e08eb02767b1",
        "cellView": "form"
      },
      "execution_count": null,
      "outputs": [
        {
          "output_type": "execute_result",
          "data": {
            "text/plain": [
              "SVC()"
            ]
          },
          "metadata": {},
          "execution_count": 16
        }
      ]
    },
    {
      "cell_type": "code",
      "source": [
        "#@title Accuracy SVM\n",
        "print(accuracy_score(SV.predict(X_test[:2000]), y_test[:2000]))"
      ],
      "metadata": {
        "colab": {
          "base_uri": "https://localhost:8080/"
        },
        "id": "fvpJUOh5ZW0f",
        "outputId": "5369e3cf-ca3c-4029-baa6-e192da4642eb",
        "cellView": "form"
      },
      "execution_count": null,
      "outputs": [
        {
          "output_type": "stream",
          "name": "stdout",
          "text": [
            "0.915\n"
          ]
        }
      ]
    },
    {
      "cell_type": "code",
      "source": [
        "#@title Entrenando Red Neuronal\n",
        "model = tf.keras.Sequential([\n",
        "    tf.keras.layers.Dense(256 ,input_shape=(X_train.shape[1],), activation=tf.nn.relu),\n",
        "    tf.keras.layers.Dense(128, activation=tf.nn.relu),\n",
        "    tf.keras.layers.Dense(32, activation=tf.nn.relu),\n",
        "    tf.keras.layers.Dense(2, activation=tf.nn.softmax)\n",
        "])\n",
        "\n",
        "model.compile(optimizer=tf.keras.optimizers.SGD(),  #AdamOptimizer(), \n",
        "              loss='sparse_categorical_crossentropy',\n",
        "              metrics=['accuracy'])\n",
        "model.fit(X_train.toarray()[:10000], y_train[:10000], epochs=8)"
      ],
      "metadata": {
        "colab": {
          "base_uri": "https://localhost:8080/"
        },
        "cellView": "form",
        "id": "OoRmDDWWSSy8",
        "outputId": "8da47fe5-1671-4422-b50c-0e9b54afd00f"
      },
      "execution_count": 16,
      "outputs": [
        {
          "output_type": "stream",
          "name": "stdout",
          "text": [
            "Epoch 1/8\n",
            "313/313 [==============================] - 2s 3ms/step - loss: 0.5218 - accuracy: 0.8039\n",
            "Epoch 2/8\n",
            "313/313 [==============================] - 1s 4ms/step - loss: 0.3498 - accuracy: 0.8697\n",
            "Epoch 3/8\n",
            "313/313 [==============================] - 1s 5ms/step - loss: 0.2786 - accuracy: 0.8977\n",
            "Epoch 4/8\n",
            "313/313 [==============================] - 1s 5ms/step - loss: 0.2375 - accuracy: 0.9140\n",
            "Epoch 5/8\n",
            "313/313 [==============================] - 1s 4ms/step - loss: 0.2097 - accuracy: 0.9249\n",
            "Epoch 6/8\n",
            "313/313 [==============================] - 1s 3ms/step - loss: 0.1871 - accuracy: 0.9344\n",
            "Epoch 7/8\n",
            "313/313 [==============================] - 1s 4ms/step - loss: 0.1673 - accuracy: 0.9417\n",
            "Epoch 8/8\n",
            "313/313 [==============================] - 1s 3ms/step - loss: 0.1505 - accuracy: 0.9469\n"
          ]
        },
        {
          "output_type": "execute_result",
          "data": {
            "text/plain": [
              "<keras.callbacks.History at 0x7ff2242c6610>"
            ]
          },
          "metadata": {},
          "execution_count": 16
        }
      ]
    },
    {
      "cell_type": "code",
      "source": [
        "#@title Evaluating the model\n",
        "test_loss, test_acc = model.evaluate(X_test.toarray()[:2000], y_test[:2000])\n",
        "\n",
        "print('Test accuracy:', test_acc)"
      ],
      "metadata": {
        "colab": {
          "base_uri": "https://localhost:8080/"
        },
        "cellView": "form",
        "id": "zkyVuJpLWHGd",
        "outputId": "b1db0849-28d0-4aa4-f711-512d256ccada"
      },
      "execution_count": 17,
      "outputs": [
        {
          "output_type": "stream",
          "name": "stdout",
          "text": [
            "63/63 [==============================] - 0s 4ms/step - loss: 0.2288 - accuracy: 0.9240\n",
            "Test accuracy: 0.9240000247955322\n"
          ]
        }
      ]
    },
    {
      "cell_type": "code",
      "source": [
        "#@title Guardando clasificadores entrenados en archivos\n",
        "dt_file = '/content/drive/MyDrive/IA I Proyecto final/decision_tree_trained.joblib'\n",
        "gnb_file = '/content/drive/MyDrive/IA I Proyecto final/gnb_trained.joblib'\n",
        "rf_file = '/content/drive/MyDrive/IA I Proyecto final/rf_trained.joblib'\n",
        "svc_file = '/content/drive/MyDrive/IA I Proyecto final/svc_trained.joblib'\n",
        "nn_file = '/content/drive/MyDrive/IA I Proyecto final/neural_network_trained.joblib'\n",
        "\n",
        "joblib.dump(DT, dt_file)\n",
        "joblib.dump(GNB, gnb_file)\n",
        "joblib.dump(RF, rf_file)\n",
        "joblib.dump(SV, svc_file)\n",
        "joblib.dump(model, nn_file)"
      ],
      "metadata": {
        "colab": {
          "base_uri": "https://localhost:8080/"
        },
        "id": "avyP11kXo2KA",
        "outputId": "bec53f30-ef7e-42c9-80b1-1485fa86a294",
        "cellView": "form"
      },
      "execution_count": null,
      "outputs": [
        {
          "output_type": "execute_result",
          "data": {
            "text/plain": [
              "['svc_trained.joblib']"
            ]
          },
          "metadata": {},
          "execution_count": 18
        }
      ]
    },
    {
      "cell_type": "code",
      "source": [
        "#@title Recuperando clasificadores entrenados desde los archivos\n",
        "DT = joblib.load('/content/drive/MyDrive/IA I Proyecto final/decision_tree_trained.joblib')\n",
        "GNB = joblib.load('/content/drive/MyDrive/IA I Proyecto final/gnb_trained.joblib')\n",
        "RF = joblib.load('/content/drive/MyDrive/IA I Proyecto final/rf_trained.joblib')\n",
        "SV = joblib.load('/content/drive/MyDrive/IA I Proyecto final/svc_trained.joblib')\n",
        "model = joblib.load('/content/drive/MyDrive/IA I Proyecto final/neural_network_trained.joblib')"
      ],
      "metadata": {
        "id": "gYrECpOCqSI7",
        "cellView": "form"
      },
      "execution_count": 8,
      "outputs": []
    },
    {
      "cell_type": "markdown",
      "source": [
        "# Overfitting and Underfitting"
      ],
      "metadata": {
        "id": "LAdMEEUmSOga"
      }
    },
    {
      "cell_type": "code",
      "source": [
        "#@title Gaussian Naive Bayes\n",
        "print(\"%.3f\"%accuracy_score(GNB.predict(X_train[:2000].toarray()), y_train[:2000]))\n",
        "print(\"%.3f\"%accuracy_score(GNB.predict(X_test[:2000].toarray()), y_test[:2000]))"
      ],
      "metadata": {
        "colab": {
          "base_uri": "https://localhost:8080/"
        },
        "id": "KD74_tEmUUOe",
        "outputId": "0feb1aeb-8424-476c-e377-13b9734fa99c",
        "cellView": "form"
      },
      "execution_count": 34,
      "outputs": [
        {
          "output_type": "stream",
          "name": "stdout",
          "text": [
            "0.790\n",
            "0.789\n"
          ]
        }
      ]
    },
    {
      "cell_type": "code",
      "source": [
        "#@title Decision Tree\n",
        "print(\"%.3f\"%accuracy_score(DT.predict(X_train[:2000].toarray()), y_train[:2000]))\n",
        "print(\"%.3f\"%accuracy_score(DT.predict(X_test[:2000].toarray()), y_test[:2000]))"
      ],
      "metadata": {
        "colab": {
          "base_uri": "https://localhost:8080/"
        },
        "id": "y8yRbr-eUmQQ",
        "outputId": "4352a002-d778-4cb0-ab11-8c2040964d5d",
        "cellView": "form"
      },
      "execution_count": 35,
      "outputs": [
        {
          "output_type": "stream",
          "name": "stdout",
          "text": [
            "0.863\n",
            "0.864\n"
          ]
        }
      ]
    },
    {
      "cell_type": "code",
      "source": [
        "#@title Random Forest\n",
        "print(\"%.3f\"%accuracy_score(RF.predict(X_train[:2000].toarray()), y_train[:2000]))\n",
        "print(\"%.3f\"%accuracy_score(RF.predict(X_test[:2000].toarray()), y_test[:2000]))"
      ],
      "metadata": {
        "colab": {
          "base_uri": "https://localhost:8080/"
        },
        "id": "J3X-aHEKUovv",
        "outputId": "130d00d9-dbe8-4d29-87cf-e53d43d06b11",
        "cellView": "form"
      },
      "execution_count": 36,
      "outputs": [
        {
          "output_type": "stream",
          "name": "stdout",
          "text": [
            "0.999\n",
            "0.900\n"
          ]
        }
      ]
    },
    {
      "cell_type": "code",
      "source": [
        "#@title Support Vector Machine\n",
        "print(\"%.3f\"%accuracy_score(SV.predict(X_train[:2000].toarray()), y_train[:2000]))\n",
        "print(\"%.3f\"%accuracy_score(SV.predict(X_test[:2000].toarray()), y_test[:2000]))"
      ],
      "metadata": {
        "colab": {
          "base_uri": "https://localhost:8080/"
        },
        "cellView": "form",
        "id": "jgQ3k_jgQ10B",
        "outputId": "bf543484-04d7-42fc-dbe1-e91a0ef5bab3"
      },
      "execution_count": 37,
      "outputs": [
        {
          "output_type": "stream",
          "name": "stdout",
          "text": [
            "0.909\n",
            "0.915\n"
          ]
        }
      ]
    },
    {
      "cell_type": "code",
      "source": [
        "#@title Neural Networks\n",
        "test_loss1, test_acc1 = model.evaluate(X_train.toarray()[:2000], y_train[:2000])\n",
        "test_loss2, test_acc2 = model.evaluate(X_test.toarray()[:2000], y_test[:2000])\n",
        "print('%.3f'%test_acc1)\n",
        "print('%.3f'%test_acc2)"
      ],
      "metadata": {
        "colab": {
          "base_uri": "https://localhost:8080/"
        },
        "cellView": "form",
        "id": "5CzZTQLhXzpy",
        "outputId": "71279dfd-068c-43ef-8a23-116a1ac2196e"
      },
      "execution_count": 19,
      "outputs": [
        {
          "output_type": "stream",
          "name": "stdout",
          "text": [
            "63/63 [==============================] - 0s 3ms/step - loss: 0.1326 - accuracy: 0.9570\n",
            "63/63 [==============================] - 0s 3ms/step - loss: 0.2288 - accuracy: 0.9240\n",
            "0.957\n",
            "0.924\n"
          ]
        }
      ]
    }
  ]
}