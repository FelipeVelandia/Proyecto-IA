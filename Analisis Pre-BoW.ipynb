{
  "nbformat": 4,
  "nbformat_minor": 0,
  "metadata": {
    "colab": {
      "provenance": [],
      "collapsed_sections": [
        "IZK_IEtRmbcF",
        "QiF7wc5XsZZU",
        "RuqvGZvoriUW"
      ]
    },
    "kernelspec": {
      "name": "python3",
      "display_name": "Python 3"
    },
    "language_info": {
      "name": "python"
    }
  },
  "cells": [
    {
      "cell_type": "code",
      "execution_count": null,
      "metadata": {
        "id": "j_bK68Hu7JEn"
      },
      "outputs": [],
      "source": [
        "#@title Librerias usadas\n",
        "import numpy as np \n",
        "import pandas as pd\n",
        "import matplotlib.pyplot as plt\n",
        "import seaborn as sns\n",
        "from sklearn.naive_bayes import GaussianNB\n",
        "from collections import Counter\n",
        "from sklearn.model_selection import train_test_split\n",
        "from sklearn.metrics import accuracy_score\n",
        "from sklearn.model_selection import cross_val_score\n",
        "from sklearn.model_selection import KFold\n",
        "from sklearn.metrics import *\n",
        "from sklearn.metrics import classification_report\n",
        "from sklearn.tree import DecisionTreeClassifier\n",
        "from sklearn.ensemble import RandomForestClassifier\n",
        "from sklearn.svm import SVC"
      ]
    },
    {
      "cell_type": "code",
      "source": [
        "#@title Montando Drive\n",
        "from google.colab import drive\n",
        "drive.mount('/content/drive')"
      ],
      "metadata": {
        "colab": {
          "base_uri": "https://localhost:8080/"
        },
        "id": "6SCWh8zsizLs",
        "outputId": "2e099fbe-7545-4833-ce0a-5fa49ff1b90b"
      },
      "execution_count": null,
      "outputs": [
        {
          "output_type": "stream",
          "name": "stdout",
          "text": [
            "Drive already mounted at /content/drive; to attempt to forcibly remount, call drive.mount(\"/content/drive\", force_remount=True).\n"
          ]
        }
      ]
    },
    {
      "cell_type": "code",
      "source": [
        "#@title Importando dataset\n",
        "Suicide = pd.read_csv('/content/drive/MyDrive/IA I Proyecto final/Suicide_Detection.csv')\n",
        "Suicide.head(5)"
      ],
      "metadata": {
        "colab": {
          "base_uri": "https://localhost:8080/",
          "height": 206
        },
        "id": "DPlM6TOb_rlW",
        "outputId": "0afd4630-75cd-4b3d-b265-689c12bf5dfd"
      },
      "execution_count": null,
      "outputs": [
        {
          "output_type": "execute_result",
          "data": {
            "text/plain": [
              "   Unnamed: 0                                               text        class\n",
              "0           2  Ex Wife Threatening SuicideRecently I left my ...      suicide\n",
              "1           3  Am I weird I don't get affected by compliments...  non-suicide\n",
              "2           4  Finally 2020 is almost over... So I can never ...  non-suicide\n",
              "3           8          i need helpjust help me im crying so hard      suicide\n",
              "4           9  I’m so lostHello, my name is Adam (16) and I’v...      suicide"
            ],
            "text/html": [
              "\n",
              "  <div id=\"df-61704239-c04f-4974-96de-ff3b559ed015\">\n",
              "    <div class=\"colab-df-container\">\n",
              "      <div>\n",
              "<style scoped>\n",
              "    .dataframe tbody tr th:only-of-type {\n",
              "        vertical-align: middle;\n",
              "    }\n",
              "\n",
              "    .dataframe tbody tr th {\n",
              "        vertical-align: top;\n",
              "    }\n",
              "\n",
              "    .dataframe thead th {\n",
              "        text-align: right;\n",
              "    }\n",
              "</style>\n",
              "<table border=\"1\" class=\"dataframe\">\n",
              "  <thead>\n",
              "    <tr style=\"text-align: right;\">\n",
              "      <th></th>\n",
              "      <th>Unnamed: 0</th>\n",
              "      <th>text</th>\n",
              "      <th>class</th>\n",
              "    </tr>\n",
              "  </thead>\n",
              "  <tbody>\n",
              "    <tr>\n",
              "      <th>0</th>\n",
              "      <td>2</td>\n",
              "      <td>Ex Wife Threatening SuicideRecently I left my ...</td>\n",
              "      <td>suicide</td>\n",
              "    </tr>\n",
              "    <tr>\n",
              "      <th>1</th>\n",
              "      <td>3</td>\n",
              "      <td>Am I weird I don't get affected by compliments...</td>\n",
              "      <td>non-suicide</td>\n",
              "    </tr>\n",
              "    <tr>\n",
              "      <th>2</th>\n",
              "      <td>4</td>\n",
              "      <td>Finally 2020 is almost over... So I can never ...</td>\n",
              "      <td>non-suicide</td>\n",
              "    </tr>\n",
              "    <tr>\n",
              "      <th>3</th>\n",
              "      <td>8</td>\n",
              "      <td>i need helpjust help me im crying so hard</td>\n",
              "      <td>suicide</td>\n",
              "    </tr>\n",
              "    <tr>\n",
              "      <th>4</th>\n",
              "      <td>9</td>\n",
              "      <td>I’m so lostHello, my name is Adam (16) and I’v...</td>\n",
              "      <td>suicide</td>\n",
              "    </tr>\n",
              "  </tbody>\n",
              "</table>\n",
              "</div>\n",
              "      <button class=\"colab-df-convert\" onclick=\"convertToInteractive('df-61704239-c04f-4974-96de-ff3b559ed015')\"\n",
              "              title=\"Convert this dataframe to an interactive table.\"\n",
              "              style=\"display:none;\">\n",
              "        \n",
              "  <svg xmlns=\"http://www.w3.org/2000/svg\" height=\"24px\"viewBox=\"0 0 24 24\"\n",
              "       width=\"24px\">\n",
              "    <path d=\"M0 0h24v24H0V0z\" fill=\"none\"/>\n",
              "    <path d=\"M18.56 5.44l.94 2.06.94-2.06 2.06-.94-2.06-.94-.94-2.06-.94 2.06-2.06.94zm-11 1L8.5 8.5l.94-2.06 2.06-.94-2.06-.94L8.5 2.5l-.94 2.06-2.06.94zm10 10l.94 2.06.94-2.06 2.06-.94-2.06-.94-.94-2.06-.94 2.06-2.06.94z\"/><path d=\"M17.41 7.96l-1.37-1.37c-.4-.4-.92-.59-1.43-.59-.52 0-1.04.2-1.43.59L10.3 9.45l-7.72 7.72c-.78.78-.78 2.05 0 2.83L4 21.41c.39.39.9.59 1.41.59.51 0 1.02-.2 1.41-.59l7.78-7.78 2.81-2.81c.8-.78.8-2.07 0-2.86zM5.41 20L4 18.59l7.72-7.72 1.47 1.35L5.41 20z\"/>\n",
              "  </svg>\n",
              "      </button>\n",
              "      \n",
              "  <style>\n",
              "    .colab-df-container {\n",
              "      display:flex;\n",
              "      flex-wrap:wrap;\n",
              "      gap: 12px;\n",
              "    }\n",
              "\n",
              "    .colab-df-convert {\n",
              "      background-color: #E8F0FE;\n",
              "      border: none;\n",
              "      border-radius: 50%;\n",
              "      cursor: pointer;\n",
              "      display: none;\n",
              "      fill: #1967D2;\n",
              "      height: 32px;\n",
              "      padding: 0 0 0 0;\n",
              "      width: 32px;\n",
              "    }\n",
              "\n",
              "    .colab-df-convert:hover {\n",
              "      background-color: #E2EBFA;\n",
              "      box-shadow: 0px 1px 2px rgba(60, 64, 67, 0.3), 0px 1px 3px 1px rgba(60, 64, 67, 0.15);\n",
              "      fill: #174EA6;\n",
              "    }\n",
              "\n",
              "    [theme=dark] .colab-df-convert {\n",
              "      background-color: #3B4455;\n",
              "      fill: #D2E3FC;\n",
              "    }\n",
              "\n",
              "    [theme=dark] .colab-df-convert:hover {\n",
              "      background-color: #434B5C;\n",
              "      box-shadow: 0px 1px 3px 1px rgba(0, 0, 0, 0.15);\n",
              "      filter: drop-shadow(0px 1px 2px rgba(0, 0, 0, 0.3));\n",
              "      fill: #FFFFFF;\n",
              "    }\n",
              "  </style>\n",
              "\n",
              "      <script>\n",
              "        const buttonEl =\n",
              "          document.querySelector('#df-61704239-c04f-4974-96de-ff3b559ed015 button.colab-df-convert');\n",
              "        buttonEl.style.display =\n",
              "          google.colab.kernel.accessAllowed ? 'block' : 'none';\n",
              "\n",
              "        async function convertToInteractive(key) {\n",
              "          const element = document.querySelector('#df-61704239-c04f-4974-96de-ff3b559ed015');\n",
              "          const dataTable =\n",
              "            await google.colab.kernel.invokeFunction('convertToInteractive',\n",
              "                                                     [key], {});\n",
              "          if (!dataTable) return;\n",
              "\n",
              "          const docLinkHtml = 'Like what you see? Visit the ' +\n",
              "            '<a target=\"_blank\" href=https://colab.research.google.com/notebooks/data_table.ipynb>data table notebook</a>'\n",
              "            + ' to learn more about interactive tables.';\n",
              "          element.innerHTML = '';\n",
              "          dataTable['output_type'] = 'display_data';\n",
              "          await google.colab.output.renderOutput(dataTable, element);\n",
              "          const docLink = document.createElement('div');\n",
              "          docLink.innerHTML = docLinkHtml;\n",
              "          element.appendChild(docLink);\n",
              "        }\n",
              "      </script>\n",
              "    </div>\n",
              "  </div>\n",
              "  "
            ]
          },
          "metadata": {},
          "execution_count": 3
        }
      ]
    },
    {
      "cell_type": "code",
      "source": [
        "#@title Eliminando columna Unnamed y agregando la longitud de las frases como característica\n",
        "Suicide = Suicide.drop('Unnamed: 0', axis=1);\n",
        "Suicide['Length'] = Suicide['text'].apply(lambda x: len(x.split(' ')))\n",
        "Suicide.head(10)"
      ],
      "metadata": {
        "colab": {
          "base_uri": "https://localhost:8080/",
          "height": 363
        },
        "id": "8ctA7XvDBFI3",
        "outputId": "972b3dad-62e9-49a0-bd07-dfd87652b5fd"
      },
      "execution_count": null,
      "outputs": [
        {
          "output_type": "execute_result",
          "data": {
            "text/plain": [
              "                                                text        class  Length\n",
              "0  Ex Wife Threatening SuicideRecently I left my ...      suicide     143\n",
              "1  Am I weird I don't get affected by compliments...  non-suicide      27\n",
              "2  Finally 2020 is almost over... So I can never ...  non-suicide      26\n",
              "3          i need helpjust help me im crying so hard      suicide       9\n",
              "4  I’m so lostHello, my name is Adam (16) and I’v...      suicide     436\n",
              "5  Honetly idkI dont know what im even doing here...      suicide     289\n",
              "6  [Trigger warning] Excuse for self inflicted bu...      suicide     242\n",
              "7   It ends tonight.I can’t do it anymore. \\nI quit.      suicide       9\n",
              "8  Everyone wants to be \"edgy\" and it's making me...  non-suicide     188\n",
              "9  My life is over at 20 years oldHello all. I am...      suicide     224"
            ],
            "text/html": [
              "\n",
              "  <div id=\"df-a96d78e9-86c9-47ac-8e32-7bd5554a6d8c\">\n",
              "    <div class=\"colab-df-container\">\n",
              "      <div>\n",
              "<style scoped>\n",
              "    .dataframe tbody tr th:only-of-type {\n",
              "        vertical-align: middle;\n",
              "    }\n",
              "\n",
              "    .dataframe tbody tr th {\n",
              "        vertical-align: top;\n",
              "    }\n",
              "\n",
              "    .dataframe thead th {\n",
              "        text-align: right;\n",
              "    }\n",
              "</style>\n",
              "<table border=\"1\" class=\"dataframe\">\n",
              "  <thead>\n",
              "    <tr style=\"text-align: right;\">\n",
              "      <th></th>\n",
              "      <th>text</th>\n",
              "      <th>class</th>\n",
              "      <th>Length</th>\n",
              "    </tr>\n",
              "  </thead>\n",
              "  <tbody>\n",
              "    <tr>\n",
              "      <th>0</th>\n",
              "      <td>Ex Wife Threatening SuicideRecently I left my ...</td>\n",
              "      <td>suicide</td>\n",
              "      <td>143</td>\n",
              "    </tr>\n",
              "    <tr>\n",
              "      <th>1</th>\n",
              "      <td>Am I weird I don't get affected by compliments...</td>\n",
              "      <td>non-suicide</td>\n",
              "      <td>27</td>\n",
              "    </tr>\n",
              "    <tr>\n",
              "      <th>2</th>\n",
              "      <td>Finally 2020 is almost over... So I can never ...</td>\n",
              "      <td>non-suicide</td>\n",
              "      <td>26</td>\n",
              "    </tr>\n",
              "    <tr>\n",
              "      <th>3</th>\n",
              "      <td>i need helpjust help me im crying so hard</td>\n",
              "      <td>suicide</td>\n",
              "      <td>9</td>\n",
              "    </tr>\n",
              "    <tr>\n",
              "      <th>4</th>\n",
              "      <td>I’m so lostHello, my name is Adam (16) and I’v...</td>\n",
              "      <td>suicide</td>\n",
              "      <td>436</td>\n",
              "    </tr>\n",
              "    <tr>\n",
              "      <th>5</th>\n",
              "      <td>Honetly idkI dont know what im even doing here...</td>\n",
              "      <td>suicide</td>\n",
              "      <td>289</td>\n",
              "    </tr>\n",
              "    <tr>\n",
              "      <th>6</th>\n",
              "      <td>[Trigger warning] Excuse for self inflicted bu...</td>\n",
              "      <td>suicide</td>\n",
              "      <td>242</td>\n",
              "    </tr>\n",
              "    <tr>\n",
              "      <th>7</th>\n",
              "      <td>It ends tonight.I can’t do it anymore. \\nI quit.</td>\n",
              "      <td>suicide</td>\n",
              "      <td>9</td>\n",
              "    </tr>\n",
              "    <tr>\n",
              "      <th>8</th>\n",
              "      <td>Everyone wants to be \"edgy\" and it's making me...</td>\n",
              "      <td>non-suicide</td>\n",
              "      <td>188</td>\n",
              "    </tr>\n",
              "    <tr>\n",
              "      <th>9</th>\n",
              "      <td>My life is over at 20 years oldHello all. I am...</td>\n",
              "      <td>suicide</td>\n",
              "      <td>224</td>\n",
              "    </tr>\n",
              "  </tbody>\n",
              "</table>\n",
              "</div>\n",
              "      <button class=\"colab-df-convert\" onclick=\"convertToInteractive('df-a96d78e9-86c9-47ac-8e32-7bd5554a6d8c')\"\n",
              "              title=\"Convert this dataframe to an interactive table.\"\n",
              "              style=\"display:none;\">\n",
              "        \n",
              "  <svg xmlns=\"http://www.w3.org/2000/svg\" height=\"24px\"viewBox=\"0 0 24 24\"\n",
              "       width=\"24px\">\n",
              "    <path d=\"M0 0h24v24H0V0z\" fill=\"none\"/>\n",
              "    <path d=\"M18.56 5.44l.94 2.06.94-2.06 2.06-.94-2.06-.94-.94-2.06-.94 2.06-2.06.94zm-11 1L8.5 8.5l.94-2.06 2.06-.94-2.06-.94L8.5 2.5l-.94 2.06-2.06.94zm10 10l.94 2.06.94-2.06 2.06-.94-2.06-.94-.94-2.06-.94 2.06-2.06.94z\"/><path d=\"M17.41 7.96l-1.37-1.37c-.4-.4-.92-.59-1.43-.59-.52 0-1.04.2-1.43.59L10.3 9.45l-7.72 7.72c-.78.78-.78 2.05 0 2.83L4 21.41c.39.39.9.59 1.41.59.51 0 1.02-.2 1.41-.59l7.78-7.78 2.81-2.81c.8-.78.8-2.07 0-2.86zM5.41 20L4 18.59l7.72-7.72 1.47 1.35L5.41 20z\"/>\n",
              "  </svg>\n",
              "      </button>\n",
              "      \n",
              "  <style>\n",
              "    .colab-df-container {\n",
              "      display:flex;\n",
              "      flex-wrap:wrap;\n",
              "      gap: 12px;\n",
              "    }\n",
              "\n",
              "    .colab-df-convert {\n",
              "      background-color: #E8F0FE;\n",
              "      border: none;\n",
              "      border-radius: 50%;\n",
              "      cursor: pointer;\n",
              "      display: none;\n",
              "      fill: #1967D2;\n",
              "      height: 32px;\n",
              "      padding: 0 0 0 0;\n",
              "      width: 32px;\n",
              "    }\n",
              "\n",
              "    .colab-df-convert:hover {\n",
              "      background-color: #E2EBFA;\n",
              "      box-shadow: 0px 1px 2px rgba(60, 64, 67, 0.3), 0px 1px 3px 1px rgba(60, 64, 67, 0.15);\n",
              "      fill: #174EA6;\n",
              "    }\n",
              "\n",
              "    [theme=dark] .colab-df-convert {\n",
              "      background-color: #3B4455;\n",
              "      fill: #D2E3FC;\n",
              "    }\n",
              "\n",
              "    [theme=dark] .colab-df-convert:hover {\n",
              "      background-color: #434B5C;\n",
              "      box-shadow: 0px 1px 3px 1px rgba(0, 0, 0, 0.15);\n",
              "      filter: drop-shadow(0px 1px 2px rgba(0, 0, 0, 0.3));\n",
              "      fill: #FFFFFF;\n",
              "    }\n",
              "  </style>\n",
              "\n",
              "      <script>\n",
              "        const buttonEl =\n",
              "          document.querySelector('#df-a96d78e9-86c9-47ac-8e32-7bd5554a6d8c button.colab-df-convert');\n",
              "        buttonEl.style.display =\n",
              "          google.colab.kernel.accessAllowed ? 'block' : 'none';\n",
              "\n",
              "        async function convertToInteractive(key) {\n",
              "          const element = document.querySelector('#df-a96d78e9-86c9-47ac-8e32-7bd5554a6d8c');\n",
              "          const dataTable =\n",
              "            await google.colab.kernel.invokeFunction('convertToInteractive',\n",
              "                                                     [key], {});\n",
              "          if (!dataTable) return;\n",
              "\n",
              "          const docLinkHtml = 'Like what you see? Visit the ' +\n",
              "            '<a target=\"_blank\" href=https://colab.research.google.com/notebooks/data_table.ipynb>data table notebook</a>'\n",
              "            + ' to learn more about interactive tables.';\n",
              "          element.innerHTML = '';\n",
              "          dataTable['output_type'] = 'display_data';\n",
              "          await google.colab.output.renderOutput(dataTable, element);\n",
              "          const docLink = document.createElement('div');\n",
              "          docLink.innerHTML = docLinkHtml;\n",
              "          element.appendChild(docLink);\n",
              "        }\n",
              "      </script>\n",
              "    </div>\n",
              "  </div>\n",
              "  "
            ]
          },
          "metadata": {},
          "execution_count": 35
        }
      ]
    },
    {
      "cell_type": "code",
      "source": [
        "#@title Cuantiles de las longitudes de las frases\n",
        "for i in np.linspace(0,1,11):\n",
        "    print(Suicide['Length'].quantile(i))"
      ],
      "metadata": {
        "colab": {
          "base_uri": "https://localhost:8080/"
        },
        "id": "HiVOzdYgEDuS",
        "outputId": "96b77430-dc32-49ff-b6a5-01155f67e319",
        "cellView": "form"
      },
      "execution_count": null,
      "outputs": [
        {
          "output_type": "stream",
          "name": "stdout",
          "text": [
            "1.0\n",
            "15.0\n",
            "22.0\n",
            "30.0\n",
            "42.0\n",
            "60.0\n",
            "86.0\n",
            "126.0\n",
            "190.0\n",
            "317.0\n",
            "15632.0\n"
          ]
        }
      ]
    },
    {
      "cell_type": "code",
      "source": [
        "#@title Removiendo el 10% de las frases más largas\n",
        "Suicide = Suicide[Suicide.Length <= 317]\n",
        "len(Suicide)"
      ],
      "metadata": {
        "colab": {
          "base_uri": "https://localhost:8080/"
        },
        "id": "VyMmuGXOEUr3",
        "outputId": "c446b3cc-9d5b-4853-cecb-42b1d040e861"
      },
      "execution_count": null,
      "outputs": [
        {
          "output_type": "execute_result",
          "data": {
            "text/plain": [
              "208955"
            ]
          },
          "metadata": {},
          "execution_count": 37
        }
      ]
    },
    {
      "cell_type": "code",
      "source": [
        "#@title Función de preprocesamiento\n",
        "def preprocesing(phrase):\n",
        "  Words = list();\n",
        "  for word in phrase.split(' '):\n",
        "    word = word.replace('.', '')\n",
        "    word = word.replace(',', '')\n",
        "    if not word.strip():\n",
        "      continue\n",
        "    Words.append(word.upper())\n",
        "  return Words"
      ],
      "metadata": {
        "id": "jtqdK7LzE0uC"
      },
      "execution_count": null,
      "outputs": []
    },
    {
      "cell_type": "code",
      "source": [
        "#@title Separando en una lista todas las palabras de las frases\n",
        "Words = list()\n",
        "for phrase in Suicide['text']:\n",
        "  Words += (preprocesing(phrase))\n",
        "len(Words)"
      ],
      "metadata": {
        "colab": {
          "base_uri": "https://localhost:8080/"
        },
        "id": "JHTjObSvTz8o",
        "outputId": "28bec6e2-b43d-4e02-d86f-422fe200ffd7"
      },
      "execution_count": null,
      "outputs": [
        {
          "output_type": "execute_result",
          "data": {
            "text/plain": [
              "16595990"
            ]
          },
          "metadata": {},
          "execution_count": 39
        }
      ]
    },
    {
      "cell_type": "code",
      "source": [
        "#@title Agrupando palabras por frecuencias\n",
        "Words_Freq = Counter(Words)\n",
        "Words_Freq = pd.DataFrame({'Word':list(Words_Freq.keys()), 'Frequency':list(Words_Freq.values())})\n",
        "print(len(Words_Freq))\n",
        "Words_Freq.head(5)"
      ],
      "metadata": {
        "colab": {
          "base_uri": "https://localhost:8080/",
          "height": 224
        },
        "id": "XnVHcshPVUML",
        "outputId": "130e7638-18ea-440f-8e5c-f7429da0036a"
      },
      "execution_count": null,
      "outputs": [
        {
          "output_type": "stream",
          "name": "stdout",
          "text": [
            "352424\n"
          ]
        },
        {
          "output_type": "execute_result",
          "data": {
            "text/plain": [
              "              Word  Frequency\n",
              "0               EX       2394\n",
              "1             WIFE       1825\n",
              "2      THREATENING        294\n",
              "3  SUICIDERECENTLY          1\n",
              "4                I     891840"
            ],
            "text/html": [
              "\n",
              "  <div id=\"df-83a7e50d-9c85-43fa-a416-7c0a121768e6\">\n",
              "    <div class=\"colab-df-container\">\n",
              "      <div>\n",
              "<style scoped>\n",
              "    .dataframe tbody tr th:only-of-type {\n",
              "        vertical-align: middle;\n",
              "    }\n",
              "\n",
              "    .dataframe tbody tr th {\n",
              "        vertical-align: top;\n",
              "    }\n",
              "\n",
              "    .dataframe thead th {\n",
              "        text-align: right;\n",
              "    }\n",
              "</style>\n",
              "<table border=\"1\" class=\"dataframe\">\n",
              "  <thead>\n",
              "    <tr style=\"text-align: right;\">\n",
              "      <th></th>\n",
              "      <th>Word</th>\n",
              "      <th>Frequency</th>\n",
              "    </tr>\n",
              "  </thead>\n",
              "  <tbody>\n",
              "    <tr>\n",
              "      <th>0</th>\n",
              "      <td>EX</td>\n",
              "      <td>2394</td>\n",
              "    </tr>\n",
              "    <tr>\n",
              "      <th>1</th>\n",
              "      <td>WIFE</td>\n",
              "      <td>1825</td>\n",
              "    </tr>\n",
              "    <tr>\n",
              "      <th>2</th>\n",
              "      <td>THREATENING</td>\n",
              "      <td>294</td>\n",
              "    </tr>\n",
              "    <tr>\n",
              "      <th>3</th>\n",
              "      <td>SUICIDERECENTLY</td>\n",
              "      <td>1</td>\n",
              "    </tr>\n",
              "    <tr>\n",
              "      <th>4</th>\n",
              "      <td>I</td>\n",
              "      <td>891840</td>\n",
              "    </tr>\n",
              "  </tbody>\n",
              "</table>\n",
              "</div>\n",
              "      <button class=\"colab-df-convert\" onclick=\"convertToInteractive('df-83a7e50d-9c85-43fa-a416-7c0a121768e6')\"\n",
              "              title=\"Convert this dataframe to an interactive table.\"\n",
              "              style=\"display:none;\">\n",
              "        \n",
              "  <svg xmlns=\"http://www.w3.org/2000/svg\" height=\"24px\"viewBox=\"0 0 24 24\"\n",
              "       width=\"24px\">\n",
              "    <path d=\"M0 0h24v24H0V0z\" fill=\"none\"/>\n",
              "    <path d=\"M18.56 5.44l.94 2.06.94-2.06 2.06-.94-2.06-.94-.94-2.06-.94 2.06-2.06.94zm-11 1L8.5 8.5l.94-2.06 2.06-.94-2.06-.94L8.5 2.5l-.94 2.06-2.06.94zm10 10l.94 2.06.94-2.06 2.06-.94-2.06-.94-.94-2.06-.94 2.06-2.06.94z\"/><path d=\"M17.41 7.96l-1.37-1.37c-.4-.4-.92-.59-1.43-.59-.52 0-1.04.2-1.43.59L10.3 9.45l-7.72 7.72c-.78.78-.78 2.05 0 2.83L4 21.41c.39.39.9.59 1.41.59.51 0 1.02-.2 1.41-.59l7.78-7.78 2.81-2.81c.8-.78.8-2.07 0-2.86zM5.41 20L4 18.59l7.72-7.72 1.47 1.35L5.41 20z\"/>\n",
              "  </svg>\n",
              "      </button>\n",
              "      \n",
              "  <style>\n",
              "    .colab-df-container {\n",
              "      display:flex;\n",
              "      flex-wrap:wrap;\n",
              "      gap: 12px;\n",
              "    }\n",
              "\n",
              "    .colab-df-convert {\n",
              "      background-color: #E8F0FE;\n",
              "      border: none;\n",
              "      border-radius: 50%;\n",
              "      cursor: pointer;\n",
              "      display: none;\n",
              "      fill: #1967D2;\n",
              "      height: 32px;\n",
              "      padding: 0 0 0 0;\n",
              "      width: 32px;\n",
              "    }\n",
              "\n",
              "    .colab-df-convert:hover {\n",
              "      background-color: #E2EBFA;\n",
              "      box-shadow: 0px 1px 2px rgba(60, 64, 67, 0.3), 0px 1px 3px 1px rgba(60, 64, 67, 0.15);\n",
              "      fill: #174EA6;\n",
              "    }\n",
              "\n",
              "    [theme=dark] .colab-df-convert {\n",
              "      background-color: #3B4455;\n",
              "      fill: #D2E3FC;\n",
              "    }\n",
              "\n",
              "    [theme=dark] .colab-df-convert:hover {\n",
              "      background-color: #434B5C;\n",
              "      box-shadow: 0px 1px 3px 1px rgba(0, 0, 0, 0.15);\n",
              "      filter: drop-shadow(0px 1px 2px rgba(0, 0, 0, 0.3));\n",
              "      fill: #FFFFFF;\n",
              "    }\n",
              "  </style>\n",
              "\n",
              "      <script>\n",
              "        const buttonEl =\n",
              "          document.querySelector('#df-83a7e50d-9c85-43fa-a416-7c0a121768e6 button.colab-df-convert');\n",
              "        buttonEl.style.display =\n",
              "          google.colab.kernel.accessAllowed ? 'block' : 'none';\n",
              "\n",
              "        async function convertToInteractive(key) {\n",
              "          const element = document.querySelector('#df-83a7e50d-9c85-43fa-a416-7c0a121768e6');\n",
              "          const dataTable =\n",
              "            await google.colab.kernel.invokeFunction('convertToInteractive',\n",
              "                                                     [key], {});\n",
              "          if (!dataTable) return;\n",
              "\n",
              "          const docLinkHtml = 'Like what you see? Visit the ' +\n",
              "            '<a target=\"_blank\" href=https://colab.research.google.com/notebooks/data_table.ipynb>data table notebook</a>'\n",
              "            + ' to learn more about interactive tables.';\n",
              "          element.innerHTML = '';\n",
              "          dataTable['output_type'] = 'display_data';\n",
              "          await google.colab.output.renderOutput(dataTable, element);\n",
              "          const docLink = document.createElement('div');\n",
              "          docLink.innerHTML = docLinkHtml;\n",
              "          element.appendChild(docLink);\n",
              "        }\n",
              "      </script>\n",
              "    </div>\n",
              "  </div>\n",
              "  "
            ]
          },
          "metadata": {},
          "execution_count": 40
        }
      ]
    },
    {
      "cell_type": "code",
      "source": [
        "#@title Cuantiles desde el 0.89 hasta el 1 de la frecuencia de las palabras\n",
        "for i in [0.89,0.99,0.991,0.992,0.993,0.994,0.995,0.996,0.997,0.998,0.999, 1]:\n",
        "    print(Words_Freq['Frequency'].quantile(i))"
      ],
      "metadata": {
        "colab": {
          "base_uri": "https://localhost:8080/"
        },
        "id": "cM46xipPVuxj",
        "outputId": "ca7d9a29-c89c-43b0-b7e4-1bcf2d6b4563"
      },
      "execution_count": null,
      "outputs": [
        {
          "output_type": "stream",
          "name": "stdout",
          "text": [
            "5.0\n",
            "210.0\n",
            "248.0\n",
            "297.0\n",
            "362.0\n",
            "462.0\n",
            "607.0\n",
            "858.0\n",
            "1316.4619999999413\n",
            "2300.6159999999218\n",
            "5504.657000001986\n",
            "891840.0\n"
          ]
        }
      ]
    },
    {
      "cell_type": "code",
      "source": [
        "#@title Eliminando las palabras más repetidas y las menos repetidas\n",
        "Words_Freq = Words_Freq[Words_Freq['Frequency']>Words_Freq['Frequency'].quantile(0.99)]\n",
        "Words_Freq = Words_Freq[Words_Freq['Frequency']<31905]\n",
        "print(len(Words_Freq))\n",
        "Words_Freq"
      ],
      "metadata": {
        "colab": {
          "base_uri": "https://localhost:8080/",
          "height": 441
        },
        "id": "MGVC0XebYPKa",
        "outputId": "2aa03b6b-0143-4e4f-e71b-2a9b7a9fb491"
      },
      "execution_count": null,
      "outputs": [
        {
          "output_type": "stream",
          "name": "stdout",
          "text": [
            "3443\n"
          ]
        },
        {
          "output_type": "execute_result",
          "data": {
            "text/plain": [
              "              Word  Frequency\n",
              "0               EX       2394\n",
              "1             WIFE       1825\n",
              "2      THREATENING        294\n",
              "5             LEFT       9869\n",
              "8             GOOD      25971\n",
              "...            ...        ...\n",
              "29991        PAINS        222\n",
              "32589     ACHIEVED        222\n",
              "41025   GRADUATION        231\n",
              "46316          OWO        288\n",
              "61231      SNUGGIE        224\n",
              "\n",
              "[3443 rows x 2 columns]"
            ],
            "text/html": [
              "\n",
              "  <div id=\"df-9943eed0-16b6-4fce-8ea5-efcf0092f9b8\">\n",
              "    <div class=\"colab-df-container\">\n",
              "      <div>\n",
              "<style scoped>\n",
              "    .dataframe tbody tr th:only-of-type {\n",
              "        vertical-align: middle;\n",
              "    }\n",
              "\n",
              "    .dataframe tbody tr th {\n",
              "        vertical-align: top;\n",
              "    }\n",
              "\n",
              "    .dataframe thead th {\n",
              "        text-align: right;\n",
              "    }\n",
              "</style>\n",
              "<table border=\"1\" class=\"dataframe\">\n",
              "  <thead>\n",
              "    <tr style=\"text-align: right;\">\n",
              "      <th></th>\n",
              "      <th>Word</th>\n",
              "      <th>Frequency</th>\n",
              "    </tr>\n",
              "  </thead>\n",
              "  <tbody>\n",
              "    <tr>\n",
              "      <th>0</th>\n",
              "      <td>EX</td>\n",
              "      <td>2394</td>\n",
              "    </tr>\n",
              "    <tr>\n",
              "      <th>1</th>\n",
              "      <td>WIFE</td>\n",
              "      <td>1825</td>\n",
              "    </tr>\n",
              "    <tr>\n",
              "      <th>2</th>\n",
              "      <td>THREATENING</td>\n",
              "      <td>294</td>\n",
              "    </tr>\n",
              "    <tr>\n",
              "      <th>5</th>\n",
              "      <td>LEFT</td>\n",
              "      <td>9869</td>\n",
              "    </tr>\n",
              "    <tr>\n",
              "      <th>8</th>\n",
              "      <td>GOOD</td>\n",
              "      <td>25971</td>\n",
              "    </tr>\n",
              "    <tr>\n",
              "      <th>...</th>\n",
              "      <td>...</td>\n",
              "      <td>...</td>\n",
              "    </tr>\n",
              "    <tr>\n",
              "      <th>29991</th>\n",
              "      <td>PAINS</td>\n",
              "      <td>222</td>\n",
              "    </tr>\n",
              "    <tr>\n",
              "      <th>32589</th>\n",
              "      <td>ACHIEVED</td>\n",
              "      <td>222</td>\n",
              "    </tr>\n",
              "    <tr>\n",
              "      <th>41025</th>\n",
              "      <td>GRADUATION</td>\n",
              "      <td>231</td>\n",
              "    </tr>\n",
              "    <tr>\n",
              "      <th>46316</th>\n",
              "      <td>OWO</td>\n",
              "      <td>288</td>\n",
              "    </tr>\n",
              "    <tr>\n",
              "      <th>61231</th>\n",
              "      <td>SNUGGIE</td>\n",
              "      <td>224</td>\n",
              "    </tr>\n",
              "  </tbody>\n",
              "</table>\n",
              "<p>3443 rows × 2 columns</p>\n",
              "</div>\n",
              "      <button class=\"colab-df-convert\" onclick=\"convertToInteractive('df-9943eed0-16b6-4fce-8ea5-efcf0092f9b8')\"\n",
              "              title=\"Convert this dataframe to an interactive table.\"\n",
              "              style=\"display:none;\">\n",
              "        \n",
              "  <svg xmlns=\"http://www.w3.org/2000/svg\" height=\"24px\"viewBox=\"0 0 24 24\"\n",
              "       width=\"24px\">\n",
              "    <path d=\"M0 0h24v24H0V0z\" fill=\"none\"/>\n",
              "    <path d=\"M18.56 5.44l.94 2.06.94-2.06 2.06-.94-2.06-.94-.94-2.06-.94 2.06-2.06.94zm-11 1L8.5 8.5l.94-2.06 2.06-.94-2.06-.94L8.5 2.5l-.94 2.06-2.06.94zm10 10l.94 2.06.94-2.06 2.06-.94-2.06-.94-.94-2.06-.94 2.06-2.06.94z\"/><path d=\"M17.41 7.96l-1.37-1.37c-.4-.4-.92-.59-1.43-.59-.52 0-1.04.2-1.43.59L10.3 9.45l-7.72 7.72c-.78.78-.78 2.05 0 2.83L4 21.41c.39.39.9.59 1.41.59.51 0 1.02-.2 1.41-.59l7.78-7.78 2.81-2.81c.8-.78.8-2.07 0-2.86zM5.41 20L4 18.59l7.72-7.72 1.47 1.35L5.41 20z\"/>\n",
              "  </svg>\n",
              "      </button>\n",
              "      \n",
              "  <style>\n",
              "    .colab-df-container {\n",
              "      display:flex;\n",
              "      flex-wrap:wrap;\n",
              "      gap: 12px;\n",
              "    }\n",
              "\n",
              "    .colab-df-convert {\n",
              "      background-color: #E8F0FE;\n",
              "      border: none;\n",
              "      border-radius: 50%;\n",
              "      cursor: pointer;\n",
              "      display: none;\n",
              "      fill: #1967D2;\n",
              "      height: 32px;\n",
              "      padding: 0 0 0 0;\n",
              "      width: 32px;\n",
              "    }\n",
              "\n",
              "    .colab-df-convert:hover {\n",
              "      background-color: #E2EBFA;\n",
              "      box-shadow: 0px 1px 2px rgba(60, 64, 67, 0.3), 0px 1px 3px 1px rgba(60, 64, 67, 0.15);\n",
              "      fill: #174EA6;\n",
              "    }\n",
              "\n",
              "    [theme=dark] .colab-df-convert {\n",
              "      background-color: #3B4455;\n",
              "      fill: #D2E3FC;\n",
              "    }\n",
              "\n",
              "    [theme=dark] .colab-df-convert:hover {\n",
              "      background-color: #434B5C;\n",
              "      box-shadow: 0px 1px 3px 1px rgba(0, 0, 0, 0.15);\n",
              "      filter: drop-shadow(0px 1px 2px rgba(0, 0, 0, 0.3));\n",
              "      fill: #FFFFFF;\n",
              "    }\n",
              "  </style>\n",
              "\n",
              "      <script>\n",
              "        const buttonEl =\n",
              "          document.querySelector('#df-9943eed0-16b6-4fce-8ea5-efcf0092f9b8 button.colab-df-convert');\n",
              "        buttonEl.style.display =\n",
              "          google.colab.kernel.accessAllowed ? 'block' : 'none';\n",
              "\n",
              "        async function convertToInteractive(key) {\n",
              "          const element = document.querySelector('#df-9943eed0-16b6-4fce-8ea5-efcf0092f9b8');\n",
              "          const dataTable =\n",
              "            await google.colab.kernel.invokeFunction('convertToInteractive',\n",
              "                                                     [key], {});\n",
              "          if (!dataTable) return;\n",
              "\n",
              "          const docLinkHtml = 'Like what you see? Visit the ' +\n",
              "            '<a target=\"_blank\" href=https://colab.research.google.com/notebooks/data_table.ipynb>data table notebook</a>'\n",
              "            + ' to learn more about interactive tables.';\n",
              "          element.innerHTML = '';\n",
              "          dataTable['output_type'] = 'display_data';\n",
              "          await google.colab.output.renderOutput(dataTable, element);\n",
              "          const docLink = document.createElement('div');\n",
              "          docLink.innerHTML = docLinkHtml;\n",
              "          element.appendChild(docLink);\n",
              "        }\n",
              "      </script>\n",
              "    </div>\n",
              "  </div>\n",
              "  "
            ]
          },
          "metadata": {},
          "execution_count": 42
        }
      ]
    },
    {
      "cell_type": "code",
      "source": [
        "#@title Cuantiles de 0.89 a 1 de la frecuencia (De nuevo)\n",
        "for i in [0.89,0.99,0.991,0.992,0.993,0.994,0.995,0.996,0.997,0.998,0.999, 1]:\n",
        "    print(Words_Freq['Frequency'].quantile(i))"
      ],
      "metadata": {
        "id": "0M-Wh4usYcM1",
        "colab": {
          "base_uri": "https://localhost:8080/"
        },
        "outputId": "05d3dd0c-5bdb-423f-b8bc-940f96d42d7b"
      },
      "execution_count": null,
      "outputs": [
        {
          "output_type": "stream",
          "name": "stdout",
          "text": [
            "3884.2800000000007\n",
            "22196.39999999998\n",
            "22859.037999999986\n",
            "23751.51199999996\n",
            "24444.72999999999\n",
            "25285.376000000066\n",
            "25867.04999999998\n",
            "27043.111999999997\n",
            "28597.72799999998\n",
            "29736.495999999996\n",
            "30552.850000000257\n",
            "31777.0\n"
          ]
        }
      ]
    },
    {
      "cell_type": "code",
      "source": [
        "#@title Eliminando palabras menos usadas\n",
        "Words_Freq = Words_Freq[Words_Freq['Frequency'] >= Words_Freq['Frequency'].quantile(0.89)]\n",
        "print(len(Words_Freq))\n",
        "Words_Freq.tail()"
      ],
      "metadata": {
        "colab": {
          "base_uri": "https://localhost:8080/",
          "height": 224
        },
        "id": "nceYFDGdZ8wE",
        "outputId": "6be48c3d-1931-462f-9aac-a53dde7ba2c0"
      },
      "execution_count": null,
      "outputs": [
        {
          "output_type": "stream",
          "name": "stdout",
          "text": [
            "379\n"
          ]
        },
        {
          "output_type": "execute_result",
          "data": {
            "text/plain": [
              "         Word  Frequency\n",
              "2864  ALREADY       9088\n",
              "3002    BORED       4164\n",
              "3064      BED       4932\n",
              "3393   FILLER      31215\n",
              "9531        ㅤ       8301"
            ],
            "text/html": [
              "\n",
              "  <div id=\"df-4aac4ddf-0c1e-4d3b-b1b3-568f90badebf\">\n",
              "    <div class=\"colab-df-container\">\n",
              "      <div>\n",
              "<style scoped>\n",
              "    .dataframe tbody tr th:only-of-type {\n",
              "        vertical-align: middle;\n",
              "    }\n",
              "\n",
              "    .dataframe tbody tr th {\n",
              "        vertical-align: top;\n",
              "    }\n",
              "\n",
              "    .dataframe thead th {\n",
              "        text-align: right;\n",
              "    }\n",
              "</style>\n",
              "<table border=\"1\" class=\"dataframe\">\n",
              "  <thead>\n",
              "    <tr style=\"text-align: right;\">\n",
              "      <th></th>\n",
              "      <th>Word</th>\n",
              "      <th>Frequency</th>\n",
              "    </tr>\n",
              "  </thead>\n",
              "  <tbody>\n",
              "    <tr>\n",
              "      <th>2864</th>\n",
              "      <td>ALREADY</td>\n",
              "      <td>9088</td>\n",
              "    </tr>\n",
              "    <tr>\n",
              "      <th>3002</th>\n",
              "      <td>BORED</td>\n",
              "      <td>4164</td>\n",
              "    </tr>\n",
              "    <tr>\n",
              "      <th>3064</th>\n",
              "      <td>BED</td>\n",
              "      <td>4932</td>\n",
              "    </tr>\n",
              "    <tr>\n",
              "      <th>3393</th>\n",
              "      <td>FILLER</td>\n",
              "      <td>31215</td>\n",
              "    </tr>\n",
              "    <tr>\n",
              "      <th>9531</th>\n",
              "      <td>ㅤ</td>\n",
              "      <td>8301</td>\n",
              "    </tr>\n",
              "  </tbody>\n",
              "</table>\n",
              "</div>\n",
              "      <button class=\"colab-df-convert\" onclick=\"convertToInteractive('df-4aac4ddf-0c1e-4d3b-b1b3-568f90badebf')\"\n",
              "              title=\"Convert this dataframe to an interactive table.\"\n",
              "              style=\"display:none;\">\n",
              "        \n",
              "  <svg xmlns=\"http://www.w3.org/2000/svg\" height=\"24px\"viewBox=\"0 0 24 24\"\n",
              "       width=\"24px\">\n",
              "    <path d=\"M0 0h24v24H0V0z\" fill=\"none\"/>\n",
              "    <path d=\"M18.56 5.44l.94 2.06.94-2.06 2.06-.94-2.06-.94-.94-2.06-.94 2.06-2.06.94zm-11 1L8.5 8.5l.94-2.06 2.06-.94-2.06-.94L8.5 2.5l-.94 2.06-2.06.94zm10 10l.94 2.06.94-2.06 2.06-.94-2.06-.94-.94-2.06-.94 2.06-2.06.94z\"/><path d=\"M17.41 7.96l-1.37-1.37c-.4-.4-.92-.59-1.43-.59-.52 0-1.04.2-1.43.59L10.3 9.45l-7.72 7.72c-.78.78-.78 2.05 0 2.83L4 21.41c.39.39.9.59 1.41.59.51 0 1.02-.2 1.41-.59l7.78-7.78 2.81-2.81c.8-.78.8-2.07 0-2.86zM5.41 20L4 18.59l7.72-7.72 1.47 1.35L5.41 20z\"/>\n",
              "  </svg>\n",
              "      </button>\n",
              "      \n",
              "  <style>\n",
              "    .colab-df-container {\n",
              "      display:flex;\n",
              "      flex-wrap:wrap;\n",
              "      gap: 12px;\n",
              "    }\n",
              "\n",
              "    .colab-df-convert {\n",
              "      background-color: #E8F0FE;\n",
              "      border: none;\n",
              "      border-radius: 50%;\n",
              "      cursor: pointer;\n",
              "      display: none;\n",
              "      fill: #1967D2;\n",
              "      height: 32px;\n",
              "      padding: 0 0 0 0;\n",
              "      width: 32px;\n",
              "    }\n",
              "\n",
              "    .colab-df-convert:hover {\n",
              "      background-color: #E2EBFA;\n",
              "      box-shadow: 0px 1px 2px rgba(60, 64, 67, 0.3), 0px 1px 3px 1px rgba(60, 64, 67, 0.15);\n",
              "      fill: #174EA6;\n",
              "    }\n",
              "\n",
              "    [theme=dark] .colab-df-convert {\n",
              "      background-color: #3B4455;\n",
              "      fill: #D2E3FC;\n",
              "    }\n",
              "\n",
              "    [theme=dark] .colab-df-convert:hover {\n",
              "      background-color: #434B5C;\n",
              "      box-shadow: 0px 1px 3px 1px rgba(0, 0, 0, 0.15);\n",
              "      filter: drop-shadow(0px 1px 2px rgba(0, 0, 0, 0.3));\n",
              "      fill: #FFFFFF;\n",
              "    }\n",
              "  </style>\n",
              "\n",
              "      <script>\n",
              "        const buttonEl =\n",
              "          document.querySelector('#df-4aac4ddf-0c1e-4d3b-b1b3-568f90badebf button.colab-df-convert');\n",
              "        buttonEl.style.display =\n",
              "          google.colab.kernel.accessAllowed ? 'block' : 'none';\n",
              "\n",
              "        async function convertToInteractive(key) {\n",
              "          const element = document.querySelector('#df-4aac4ddf-0c1e-4d3b-b1b3-568f90badebf');\n",
              "          const dataTable =\n",
              "            await google.colab.kernel.invokeFunction('convertToInteractive',\n",
              "                                                     [key], {});\n",
              "          if (!dataTable) return;\n",
              "\n",
              "          const docLinkHtml = 'Like what you see? Visit the ' +\n",
              "            '<a target=\"_blank\" href=https://colab.research.google.com/notebooks/data_table.ipynb>data table notebook</a>'\n",
              "            + ' to learn more about interactive tables.';\n",
              "          element.innerHTML = '';\n",
              "          dataTable['output_type'] = 'display_data';\n",
              "          await google.colab.output.renderOutput(dataTable, element);\n",
              "          const docLink = document.createElement('div');\n",
              "          docLink.innerHTML = docLinkHtml;\n",
              "          element.appendChild(docLink);\n",
              "        }\n",
              "      </script>\n",
              "    </div>\n",
              "  </div>\n",
              "  "
            ]
          },
          "metadata": {},
          "execution_count": 44
        }
      ]
    },
    {
      "cell_type": "code",
      "source": [
        "#@title Separación de todo el dataset en las palabras finales\n",
        "# Final_Words = list(Words_Freq.Word)\n",
        "# for word in Final_Words:\n",
        "#   Suicide[word] = Suicide['text'].apply(lambda x: 1 if word in preprocesing(x) else 0)\n",
        "# Suicide.drop('text', axis=1, inplace=True)\n",
        "# Suicide['class'] = Suicide['class'].apply(lambda x: 1 if x == 'suicide' else 0)\n",
        "# Suicide.to_csv('/content/drive/MyDrive/IA I Proyecto final/suicide_Detection_Proc.csv')\n",
        "# Suicide.head()"
      ],
      "metadata": {
        "id": "EiaQoJ3LbBvt"
      },
      "execution_count": null,
      "outputs": []
    },
    {
      "cell_type": "code",
      "source": [
        "#@title Obteniendo dataset preprocesado\n",
        "Suicide = pd.read_csv('/content/drive/MyDrive/IA I Proyecto final/suicide_Detection_Proc.csv')\n",
        "Suicide = Suicide.drop('Unnamed: 0', axis=1);\n",
        "Suicide.head(5)"
      ],
      "metadata": {
        "colab": {
          "base_uri": "https://localhost:8080/",
          "height": 236
        },
        "id": "7YAZwQ53KC3c",
        "outputId": "37ced6f6-3f02-4146-c6b8-da751b79f816"
      },
      "execution_count": null,
      "outputs": [
        {
          "output_type": "execute_result",
          "data": {
            "text/plain": [
              "   class  Length  LEFT  GOOD  HAS  MUCH  DECIDED  BACK  FEW  DAYS  ...  FAR  \\\n",
              "0      1     143     1     1    1     1        1     1    1     1  ...    0   \n",
              "1      0      27     0     1    0     0        0     0    0     0  ...    0   \n",
              "2      0      26     0     0    1     0        0     0    0     0  ...    0   \n",
              "3      1       9     0     0    0     0        0     0    0     0  ...    0   \n",
              "4      1     289     0     1    0     0        0     0    0     0  ...    0   \n",
              "\n",
              "   TELLING  PHONE  MOTHER  BOYFRIEND  ALREADY  BORED  BED  FILLER  ㅤ  \n",
              "0        0      0       0          0        0      0    0       0  0  \n",
              "1        0      0       0          0        0      0    0       0  0  \n",
              "2        0      0       0          0        0      0    0       0  0  \n",
              "3        0      0       0          0        0      0    0       0  0  \n",
              "4        0      0       0          0        0      0    0       0  0  \n",
              "\n",
              "[5 rows x 381 columns]"
            ],
            "text/html": [
              "\n",
              "  <div id=\"df-2258e9c2-771f-4d47-ba88-dc4a5045ac79\">\n",
              "    <div class=\"colab-df-container\">\n",
              "      <div>\n",
              "<style scoped>\n",
              "    .dataframe tbody tr th:only-of-type {\n",
              "        vertical-align: middle;\n",
              "    }\n",
              "\n",
              "    .dataframe tbody tr th {\n",
              "        vertical-align: top;\n",
              "    }\n",
              "\n",
              "    .dataframe thead th {\n",
              "        text-align: right;\n",
              "    }\n",
              "</style>\n",
              "<table border=\"1\" class=\"dataframe\">\n",
              "  <thead>\n",
              "    <tr style=\"text-align: right;\">\n",
              "      <th></th>\n",
              "      <th>class</th>\n",
              "      <th>Length</th>\n",
              "      <th>LEFT</th>\n",
              "      <th>GOOD</th>\n",
              "      <th>HAS</th>\n",
              "      <th>MUCH</th>\n",
              "      <th>DECIDED</th>\n",
              "      <th>BACK</th>\n",
              "      <th>FEW</th>\n",
              "      <th>DAYS</th>\n",
              "      <th>...</th>\n",
              "      <th>FAR</th>\n",
              "      <th>TELLING</th>\n",
              "      <th>PHONE</th>\n",
              "      <th>MOTHER</th>\n",
              "      <th>BOYFRIEND</th>\n",
              "      <th>ALREADY</th>\n",
              "      <th>BORED</th>\n",
              "      <th>BED</th>\n",
              "      <th>FILLER</th>\n",
              "      <th>ㅤ</th>\n",
              "    </tr>\n",
              "  </thead>\n",
              "  <tbody>\n",
              "    <tr>\n",
              "      <th>0</th>\n",
              "      <td>1</td>\n",
              "      <td>143</td>\n",
              "      <td>1</td>\n",
              "      <td>1</td>\n",
              "      <td>1</td>\n",
              "      <td>1</td>\n",
              "      <td>1</td>\n",
              "      <td>1</td>\n",
              "      <td>1</td>\n",
              "      <td>1</td>\n",
              "      <td>...</td>\n",
              "      <td>0</td>\n",
              "      <td>0</td>\n",
              "      <td>0</td>\n",
              "      <td>0</td>\n",
              "      <td>0</td>\n",
              "      <td>0</td>\n",
              "      <td>0</td>\n",
              "      <td>0</td>\n",
              "      <td>0</td>\n",
              "      <td>0</td>\n",
              "    </tr>\n",
              "    <tr>\n",
              "      <th>1</th>\n",
              "      <td>0</td>\n",
              "      <td>27</td>\n",
              "      <td>0</td>\n",
              "      <td>1</td>\n",
              "      <td>0</td>\n",
              "      <td>0</td>\n",
              "      <td>0</td>\n",
              "      <td>0</td>\n",
              "      <td>0</td>\n",
              "      <td>0</td>\n",
              "      <td>...</td>\n",
              "      <td>0</td>\n",
              "      <td>0</td>\n",
              "      <td>0</td>\n",
              "      <td>0</td>\n",
              "      <td>0</td>\n",
              "      <td>0</td>\n",
              "      <td>0</td>\n",
              "      <td>0</td>\n",
              "      <td>0</td>\n",
              "      <td>0</td>\n",
              "    </tr>\n",
              "    <tr>\n",
              "      <th>2</th>\n",
              "      <td>0</td>\n",
              "      <td>26</td>\n",
              "      <td>0</td>\n",
              "      <td>0</td>\n",
              "      <td>1</td>\n",
              "      <td>0</td>\n",
              "      <td>0</td>\n",
              "      <td>0</td>\n",
              "      <td>0</td>\n",
              "      <td>0</td>\n",
              "      <td>...</td>\n",
              "      <td>0</td>\n",
              "      <td>0</td>\n",
              "      <td>0</td>\n",
              "      <td>0</td>\n",
              "      <td>0</td>\n",
              "      <td>0</td>\n",
              "      <td>0</td>\n",
              "      <td>0</td>\n",
              "      <td>0</td>\n",
              "      <td>0</td>\n",
              "    </tr>\n",
              "    <tr>\n",
              "      <th>3</th>\n",
              "      <td>1</td>\n",
              "      <td>9</td>\n",
              "      <td>0</td>\n",
              "      <td>0</td>\n",
              "      <td>0</td>\n",
              "      <td>0</td>\n",
              "      <td>0</td>\n",
              "      <td>0</td>\n",
              "      <td>0</td>\n",
              "      <td>0</td>\n",
              "      <td>...</td>\n",
              "      <td>0</td>\n",
              "      <td>0</td>\n",
              "      <td>0</td>\n",
              "      <td>0</td>\n",
              "      <td>0</td>\n",
              "      <td>0</td>\n",
              "      <td>0</td>\n",
              "      <td>0</td>\n",
              "      <td>0</td>\n",
              "      <td>0</td>\n",
              "    </tr>\n",
              "    <tr>\n",
              "      <th>4</th>\n",
              "      <td>1</td>\n",
              "      <td>289</td>\n",
              "      <td>0</td>\n",
              "      <td>1</td>\n",
              "      <td>0</td>\n",
              "      <td>0</td>\n",
              "      <td>0</td>\n",
              "      <td>0</td>\n",
              "      <td>0</td>\n",
              "      <td>0</td>\n",
              "      <td>...</td>\n",
              "      <td>0</td>\n",
              "      <td>0</td>\n",
              "      <td>0</td>\n",
              "      <td>0</td>\n",
              "      <td>0</td>\n",
              "      <td>0</td>\n",
              "      <td>0</td>\n",
              "      <td>0</td>\n",
              "      <td>0</td>\n",
              "      <td>0</td>\n",
              "    </tr>\n",
              "  </tbody>\n",
              "</table>\n",
              "<p>5 rows × 381 columns</p>\n",
              "</div>\n",
              "      <button class=\"colab-df-convert\" onclick=\"convertToInteractive('df-2258e9c2-771f-4d47-ba88-dc4a5045ac79')\"\n",
              "              title=\"Convert this dataframe to an interactive table.\"\n",
              "              style=\"display:none;\">\n",
              "        \n",
              "  <svg xmlns=\"http://www.w3.org/2000/svg\" height=\"24px\"viewBox=\"0 0 24 24\"\n",
              "       width=\"24px\">\n",
              "    <path d=\"M0 0h24v24H0V0z\" fill=\"none\"/>\n",
              "    <path d=\"M18.56 5.44l.94 2.06.94-2.06 2.06-.94-2.06-.94-.94-2.06-.94 2.06-2.06.94zm-11 1L8.5 8.5l.94-2.06 2.06-.94-2.06-.94L8.5 2.5l-.94 2.06-2.06.94zm10 10l.94 2.06.94-2.06 2.06-.94-2.06-.94-.94-2.06-.94 2.06-2.06.94z\"/><path d=\"M17.41 7.96l-1.37-1.37c-.4-.4-.92-.59-1.43-.59-.52 0-1.04.2-1.43.59L10.3 9.45l-7.72 7.72c-.78.78-.78 2.05 0 2.83L4 21.41c.39.39.9.59 1.41.59.51 0 1.02-.2 1.41-.59l7.78-7.78 2.81-2.81c.8-.78.8-2.07 0-2.86zM5.41 20L4 18.59l7.72-7.72 1.47 1.35L5.41 20z\"/>\n",
              "  </svg>\n",
              "      </button>\n",
              "      \n",
              "  <style>\n",
              "    .colab-df-container {\n",
              "      display:flex;\n",
              "      flex-wrap:wrap;\n",
              "      gap: 12px;\n",
              "    }\n",
              "\n",
              "    .colab-df-convert {\n",
              "      background-color: #E8F0FE;\n",
              "      border: none;\n",
              "      border-radius: 50%;\n",
              "      cursor: pointer;\n",
              "      display: none;\n",
              "      fill: #1967D2;\n",
              "      height: 32px;\n",
              "      padding: 0 0 0 0;\n",
              "      width: 32px;\n",
              "    }\n",
              "\n",
              "    .colab-df-convert:hover {\n",
              "      background-color: #E2EBFA;\n",
              "      box-shadow: 0px 1px 2px rgba(60, 64, 67, 0.3), 0px 1px 3px 1px rgba(60, 64, 67, 0.15);\n",
              "      fill: #174EA6;\n",
              "    }\n",
              "\n",
              "    [theme=dark] .colab-df-convert {\n",
              "      background-color: #3B4455;\n",
              "      fill: #D2E3FC;\n",
              "    }\n",
              "\n",
              "    [theme=dark] .colab-df-convert:hover {\n",
              "      background-color: #434B5C;\n",
              "      box-shadow: 0px 1px 3px 1px rgba(0, 0, 0, 0.15);\n",
              "      filter: drop-shadow(0px 1px 2px rgba(0, 0, 0, 0.3));\n",
              "      fill: #FFFFFF;\n",
              "    }\n",
              "  </style>\n",
              "\n",
              "      <script>\n",
              "        const buttonEl =\n",
              "          document.querySelector('#df-2258e9c2-771f-4d47-ba88-dc4a5045ac79 button.colab-df-convert');\n",
              "        buttonEl.style.display =\n",
              "          google.colab.kernel.accessAllowed ? 'block' : 'none';\n",
              "\n",
              "        async function convertToInteractive(key) {\n",
              "          const element = document.querySelector('#df-2258e9c2-771f-4d47-ba88-dc4a5045ac79');\n",
              "          const dataTable =\n",
              "            await google.colab.kernel.invokeFunction('convertToInteractive',\n",
              "                                                     [key], {});\n",
              "          if (!dataTable) return;\n",
              "\n",
              "          const docLinkHtml = 'Like what you see? Visit the ' +\n",
              "            '<a target=\"_blank\" href=https://colab.research.google.com/notebooks/data_table.ipynb>data table notebook</a>'\n",
              "            + ' to learn more about interactive tables.';\n",
              "          element.innerHTML = '';\n",
              "          dataTable['output_type'] = 'display_data';\n",
              "          await google.colab.output.renderOutput(dataTable, element);\n",
              "          const docLink = document.createElement('div');\n",
              "          docLink.innerHTML = docLinkHtml;\n",
              "          element.appendChild(docLink);\n",
              "        }\n",
              "      </script>\n",
              "    </div>\n",
              "  </div>\n",
              "  "
            ]
          },
          "metadata": {},
          "execution_count": 3
        }
      ]
    },
    {
      "cell_type": "code",
      "source": [
        "#@title Gráfica de clase vs longitud de las frases\n",
        "plt.figure(figsize=(12,5))\n",
        "sns.barplot(x='class',y='Length',data=Suicide)\n",
        "plt.title('Class vs Length')\n",
        "plt.show()"
      ],
      "metadata": {
        "id": "m2X-PT8o2pfM",
        "colab": {
          "base_uri": "https://localhost:8080/",
          "height": 350
        },
        "outputId": "e6bec1e2-e6ed-4757-cd1b-2c6e469dcc70",
        "cellView": "form"
      },
      "execution_count": null,
      "outputs": [
        {
          "output_type": "display_data",
          "data": {
            "text/plain": [
              "<Figure size 864x360 with 1 Axes>"
            ],
            "image/png": "[encoded data removed]"
          },
          "metadata": {
            "needs_background": "light"
          }
        }
      ]
    },
    {
      "cell_type": "code",
      "source": [
        "#@title Correlación de las características con la clase\n",
        "Suicide.corr()['class'].sort_values(ascending=False)"
      ],
      "metadata": {
        "id": "i_oJ7r8ZA2L0",
        "colab": {
          "base_uri": "https://localhost:8080/"
        },
        "outputId": "50aff46e-b8fa-476f-fc4c-992d8fc8ed67",
        "cellView": "form"
      },
      "execution_count": null,
      "outputs": [
        {
          "output_type": "execute_result",
          "data": {
            "text/plain": [
              "class      1.000000\n",
              "Length     0.458362\n",
              "SUICIDE    0.299618\n",
              "DIE        0.291281\n",
              "END        0.273359\n",
              "             ...   \n",
              "TALKING    0.028184\n",
              "POSTING    0.025266\n",
              "DOES       0.019079\n",
              "WEIRD     -0.029138\n",
              "YOUR      -0.070855\n",
              "Name: class, Length: 106, dtype: float64"
            ]
          },
          "metadata": {},
          "execution_count": 34
        }
      ]
    },
    {
      "cell_type": "code",
      "source": [
        "#@title Separación de datos de entrenamiento y de test\n",
        "X = Suicide.values[:,1:]\n",
        "y = Suicide.values[:,0]\n",
        "X_train, X_test, y_train, y_test = train_test_split(X, y, train_size=0.9, random_state=21)\n",
        "y_train=y_train.astype('float64')\n",
        "y_test=y_test.astype('float64')\n",
        "y=y.astype('float64')"
      ],
      "metadata": {
        "id": "6qsfxsMrEir1"
      },
      "execution_count": null,
      "outputs": []
    },
    {
      "cell_type": "markdown",
      "source": [
        "# GaussianNB"
      ],
      "metadata": {
        "id": "ZoPFfl3Yd3Fj"
      }
    },
    {
      "cell_type": "code",
      "source": [
        "GNB = GaussianNB()\n",
        "GNB.fit(X_train, y_train)\n",
        "print(\"%.3f\"%accuracy_score(GNB.predict(X_test), y_test))"
      ],
      "metadata": {
        "id": "auUOQHY8Fvcm",
        "colab": {
          "base_uri": "https://localhost:8080/"
        },
        "outputId": "334b3d28-2f10-4955-9325-31f0ea86bbbe"
      },
      "execution_count": null,
      "outputs": [
        {
          "output_type": "stream",
          "name": "stdout",
          "text": [
            "0.818\n"
          ]
        }
      ]
    },
    {
      "cell_type": "markdown",
      "source": [
        "TPR: tasa de verdaderos positivos (sensibilidad)\n",
        "\n",
        "TNR: tasa negativa verdadera (especificidad)\n",
        "\n",
        "- Verdadero positivo = identificado correctamente\n",
        "- Falso positivo = incorrectamente identificado\n",
        "- Verdadero negativo = correctamente rechazado\n",
        "- Falso negativo = incorrectamente rechazado\n",
        "\n"
      ],
      "metadata": {
        "id": "V8cLnf_0fDW5"
      }
    },
    {
      "cell_type": "code",
      "source": [
        "def tpr(est,X,y):\n",
        "    p = est.predict(X)\n",
        "    return np.mean (p[y==1] == y[y==1])\n",
        "\n",
        "def tnr(est,X,y):\n",
        "    p = est.predict(X)\n",
        "    return np.mean(p[y==0] == y[y==0])"
      ],
      "metadata": {
        "id": "Z52Rzp7CfRdy"
      },
      "execution_count": null,
      "outputs": []
    },
    {
      "cell_type": "markdown",
      "source": [
        "Reporte"
      ],
      "metadata": {
        "id": "324D7ayygAbV"
      }
    },
    {
      "cell_type": "code",
      "source": [
        "y_pred = GNB.predict(X_test)\n",
        "print(classification_report(y_test, y_pred))"
      ],
      "metadata": {
        "colab": {
          "base_uri": "https://localhost:8080/"
        },
        "id": "m5hQ0S6_frqo",
        "outputId": "300f5c11-794c-44af-b9ca-8968b9db1a58"
      },
      "execution_count": null,
      "outputs": [
        {
          "output_type": "stream",
          "name": "stdout",
          "text": [
            "              precision    recall  f1-score   support\n",
            "\n",
            "         0.0       0.82      0.84      0.83     11245\n",
            "         1.0       0.81      0.79      0.80      9651\n",
            "\n",
            "    accuracy                           0.82     20896\n",
            "   macro avg       0.82      0.82      0.82     20896\n",
            "weighted avg       0.82      0.82      0.82     20896\n",
            "\n"
          ]
        }
      ]
    },
    {
      "cell_type": "markdown",
      "source": [
        "# Decision Tree classifier"
      ],
      "metadata": {
        "id": "IZK_IEtRmbcF"
      }
    },
    {
      "cell_type": "code",
      "source": [
        "DT = DecisionTreeClassifier(max_depth=2)\n",
        "DT.fit(X_train,y_train)\n",
        "print(accuracy_score(DT.predict(X_test), y_test))"
      ],
      "metadata": {
        "colab": {
          "base_uri": "https://localhost:8080/"
        },
        "id": "Ag8Y56BPqO9Q",
        "outputId": "357212ce-412e-4a55-991f-f3dc2c6ebd4b"
      },
      "execution_count": null,
      "outputs": [
        {
          "output_type": "stream",
          "name": "stdout",
          "text": [
            "0.74645865237366\n"
          ]
        }
      ]
    },
    {
      "cell_type": "code",
      "source": [
        "DT = DecisionTreeClassifier(max_depth=100)\n",
        "DT.fit(X_train,y_train)\n",
        "print(accuracy_score(DT.predict(X_test), y_test))"
      ],
      "metadata": {
        "colab": {
          "base_uri": "https://localhost:8080/"
        },
        "id": "XzfUvNu2qR00",
        "outputId": "093603df-8e11-4c3e-f27a-831beba9ac0d"
      },
      "execution_count": null,
      "outputs": [
        {
          "output_type": "stream",
          "name": "stdout",
          "text": [
            "0.8185298621745789\n"
          ]
        }
      ]
    },
    {
      "cell_type": "code",
      "source": [
        "DT = DecisionTreeClassifier(max_depth=10)\n",
        "DT.fit(X_train,y_train)\n",
        "print(accuracy_score(DT.predict(X_test), y_test))"
      ],
      "metadata": {
        "id": "jBu05bdimzwP",
        "colab": {
          "base_uri": "https://localhost:8080/"
        },
        "outputId": "1c0439c2-c617-4861-fa65-dd267bbb3159"
      },
      "execution_count": null,
      "outputs": [
        {
          "output_type": "stream",
          "name": "stdout",
          "text": [
            "0.8259954058192955\n"
          ]
        }
      ]
    },
    {
      "cell_type": "markdown",
      "source": [
        "TPR: tasa de verdaderos positivos (sensibilidad)\n",
        "\n",
        "TNR: tasa negativa verdadera (especificidad)\n",
        "\n",
        "- Verdadero positivo = identificado correctamente\n",
        "- Falso positivo = incorrectamente identificado\n",
        "- Verdadero negativo = correctamente rechazado\n",
        "- Falso negativo = incorrectamente rechazado"
      ],
      "metadata": {
        "id": "5N7U2mSUnUzq"
      }
    },
    {
      "cell_type": "code",
      "source": [
        "def tpr(est,X,y):\n",
        "    p = est.predict(X)\n",
        "    return np.mean (p[y==1] == y[y==1])\n",
        "\n",
        "def tnr(est,X,y):\n",
        "    p = est.predict(X)\n",
        "    return np.mean(p[y==0] == y[y==0])"
      ],
      "metadata": {
        "id": "aze6ftcRm_mJ"
      },
      "execution_count": null,
      "outputs": []
    },
    {
      "cell_type": "markdown",
      "source": [
        "Reporte"
      ],
      "metadata": {
        "id": "YowobkZ6oXRK"
      }
    },
    {
      "cell_type": "code",
      "source": [
        "y_pred = DT.predict(X_test)\n",
        "print(classification_report(y_test, y_pred))"
      ],
      "metadata": {
        "colab": {
          "base_uri": "https://localhost:8080/"
        },
        "id": "2Mv48U2OoRA4",
        "outputId": "7812fc0d-61c1-4e98-e3b7-4fddb9327efa"
      },
      "execution_count": null,
      "outputs": [
        {
          "output_type": "stream",
          "name": "stdout",
          "text": [
            "              precision    recall  f1-score   support\n",
            "\n",
            "         0.0       0.78      0.93      0.85     11245\n",
            "         1.0       0.90      0.70      0.79      9651\n",
            "\n",
            "    accuracy                           0.83     20896\n",
            "   macro avg       0.84      0.82      0.82     20896\n",
            "weighted avg       0.84      0.83      0.82     20896\n",
            "\n"
          ]
        }
      ]
    },
    {
      "cell_type": "markdown",
      "source": [
        "# Random Forest classifier (RFC)"
      ],
      "metadata": {
        "id": "n-4fEuZGo0hk"
      }
    },
    {
      "cell_type": "code",
      "source": [
        "RF = RandomForestClassifier()\n",
        "RF.fit(X_train,y_train)\n",
        "print(accuracy_score(RF.predict(X_test), y_test))"
      ],
      "metadata": {
        "colab": {
          "base_uri": "https://localhost:8080/"
        },
        "id": "veTel-OtpAkI",
        "outputId": "7b9a1b4e-4c51-4ae5-e3d6-f59d3e3d7613"
      },
      "execution_count": null,
      "outputs": [
        {
          "output_type": "stream",
          "name": "stdout",
          "text": [
            "0.8797856049004594\n"
          ]
        }
      ]
    },
    {
      "cell_type": "markdown",
      "source": [
        "Reporte"
      ],
      "metadata": {
        "id": "ygquOPD2tUbn"
      }
    },
    {
      "cell_type": "code",
      "source": [
        "y_pred = RF.predict(X_test)\n",
        "print(classification_report(y_test, y_pred))"
      ],
      "metadata": {
        "colab": {
          "base_uri": "https://localhost:8080/"
        },
        "id": "A5uVYyoetWHh",
        "outputId": "b395b3c7-5921-4292-f1ba-cec9b6e5caf0"
      },
      "execution_count": null,
      "outputs": [
        {
          "output_type": "stream",
          "name": "stdout",
          "text": [
            "              precision    recall  f1-score   support\n",
            "\n",
            "         0.0       0.88      0.90      0.89     11245\n",
            "         1.0       0.88      0.86      0.87      9651\n",
            "\n",
            "    accuracy                           0.88     20896\n",
            "   macro avg       0.88      0.88      0.88     20896\n",
            "weighted avg       0.88      0.88      0.88     20896\n",
            "\n"
          ]
        }
      ]
    },
    {
      "cell_type": "markdown",
      "source": [
        "# Support Vector Machine (SVM)"
      ],
      "metadata": {
        "id": "QiF7wc5XsZZU"
      }
    },
    {
      "cell_type": "code",
      "source": [
        "SV = SVC()\n",
        "SV.fit(X_train,y_train)\n",
        "print(accuracy_score(SV.predict(X_test), y_test))"
      ],
      "metadata": {
        "id": "3R2rjVjssxTX"
      },
      "execution_count": null,
      "outputs": []
    },
    {
      "cell_type": "code",
      "source": [
        "def tpr(est,X,y):\n",
        "    p = est.predict(X)\n",
        "    return np.mean (p[y==1] == y[y==1])\n",
        "\n",
        "def tnr(est,X,y):\n",
        "    p = est.predict(X)\n",
        "    return np.mean(p[y==0] == y[y==0])"
      ],
      "metadata": {
        "id": "-c0HFFjg3wO1"
      },
      "execution_count": null,
      "outputs": []
    },
    {
      "cell_type": "markdown",
      "source": [
        "Reporte"
      ],
      "metadata": {
        "id": "rhr0LQPjteL6"
      }
    },
    {
      "cell_type": "code",
      "source": [
        "y_pred = SV.predict(X_test)\n",
        "print(classification_report(y_test, y_pred))"
      ],
      "metadata": {
        "id": "FN7CDi2X7uFg"
      },
      "execution_count": null,
      "outputs": []
    },
    {
      "cell_type": "markdown",
      "source": [
        "# Overfitting and Underfitting"
      ],
      "metadata": {
        "id": "ME85Or8rxKdq"
      }
    },
    {
      "cell_type": "code",
      "source": [
        "def plot_2Ddata_with_boundary(predict,X,y, alpha=.5):\n",
        "    if predict is not None:\n",
        "      n = 200\n",
        "      mins,maxs = np.min(X,axis=0), np.max(X,axis=0)\n",
        "      mins -= np.abs(mins)*.2\n",
        "      maxs += np.abs(maxs)*.2\n",
        "      d0 = np.linspace(mins[0], maxs[0],n)\n",
        "      d1 = np.linspace(mins[1], maxs[1],n)\n",
        "      gd0,gd1 = np.meshgrid(d0,d1)\n",
        "      D = np.hstack((gd0.reshape(-1,1), gd1.reshape(-1,1)))\n",
        "      p = (predict(D)*1.).reshape((n,n))\n",
        "      plt.contourf(gd0,gd1,p, levels=[-0.1,0.5], alpha=0.5, cmap=plt.cm.Greys)\n",
        "    plt.scatter(X[y==0][:,0], X[y==0][:,1], c=\"blue\", alpha=alpha)\n",
        "    plt.scatter(X[y==1][:,0], X[y==1][:,1], c=\"red\", alpha=alpha)"
      ],
      "metadata": {
        "id": "8nn0Vm6meFVw"
      },
      "execution_count": null,
      "outputs": []
    },
    {
      "cell_type": "code",
      "source": [
        "def plot_train_test(estimator, Xtr, Xts, ytr, yts, alpha=.5):\n",
        "    estimator.fit(Xtr,ytr)\n",
        "    plt.figure(figsize=(12,4))\n",
        "    plt.subplot(121)\n",
        "    plot_2Ddata_with_boundary(estimator.predict, Xtr,ytr, alpha=alpha)\n",
        "    plt.title(\"TRAIN accuracy %.3f\"%estimator.score(Xtr, ytr))\n",
        "    plt.subplot(122)\n",
        "    plot_2Ddata_with_boundary(estimator.predict, Xts,yts, alpha=alpha)\n",
        "    plt.title(\"TEST accuracy %.3f\"%estimator.score(Xts, yts))"
      ],
      "metadata": {
        "id": "wuSrtYm7eAPm"
      },
      "execution_count": null,
      "outputs": []
    },
    {
      "cell_type": "code",
      "source": [
        "X = Suicide[['SUICIDE', 'Length']]\n",
        "X = X.values[:,:]\n",
        "y = Suicide.values[:,0]\n",
        "\n",
        "Xtr, Xts, ytr, yts = train_test_split(X,y, test_size=.5)\n",
        "\n",
        "Xtr=Xtr.astype('float64')\n",
        "Xts=Xts.astype('float64')\n",
        "ytr=ytr.astype('float64')\n",
        "yts=yts.astype('float64')\n",
        "y=y.astype('float64')"
      ],
      "metadata": {
        "id": "jl9LBgBceWaL"
      },
      "execution_count": null,
      "outputs": []
    },
    {
      "cell_type": "code",
      "source": [
        "plot_train_test(GaussianNB(), Xtr, Xts, ytr, yts)"
      ],
      "metadata": {
        "colab": {
          "base_uri": "https://localhost:8080/",
          "height": 281
        },
        "id": "l-TubmokpgP1",
        "outputId": "9586f8ab-571c-45ce-c8b7-49f4d1a7930b"
      },
      "execution_count": null,
      "outputs": [
        {
          "output_type": "display_data",
          "data": {
            "text/plain": [
              "<Figure size 864x288 with 2 Axes>"
            ],
            "image/png": "[encoded data removed]"
          },
          "metadata": {
            "needs_background": "light"
          }
        }
      ]
    },
    {
      "cell_type": "code",
      "source": [
        "plot_train_test(DecisionTreeClassifier(max_depth=5), Xtr, Xts, ytr, yts)\n",
        "plot_train_test(DecisionTreeClassifier(max_depth=50), Xtr, Xts, ytr, yts)\n",
        "plot_train_test(DecisionTreeClassifier(max_depth=500), Xtr, Xts, ytr, yts)"
      ],
      "metadata": {
        "colab": {
          "base_uri": "https://localhost:8080/",
          "height": 809
        },
        "id": "-l5jWNCgpgKa",
        "outputId": "810cede6-acd4-46d7-a22c-f8e71f80a21a"
      },
      "execution_count": null,
      "outputs": [
        {
          "output_type": "display_data",
          "data": {
            "text/plain": [
              "<Figure size 864x288 with 2 Axes>"
            ],
            "image/png": "[encoded data removed]"
          },
          "metadata": {
            "needs_background": "light"
          }
        },
        {
          "output_type": "display_data",
          "data": {
            "text/plain": [
              "<Figure size 864x288 with 2 Axes>"
            ],
            "image/png": "[encoded data removed]"
          },
          "metadata": {
            "needs_background": "light"
          }
        },
        {
          "output_type": "display_data",
          "data": {
            "text/plain": [
              "<Figure size 864x288 with 2 Axes>"
            ],
            "image/png": "[encoded data removed]"
          },
          "metadata": {
            "needs_background": "light"
          }
        }
      ]
    },
    {
      "cell_type": "code",
      "source": [
        "plot_train_test(RandomForestClassifier(), Xtr, Xts, ytr, yts)"
      ],
      "metadata": {
        "colab": {
          "base_uri": "https://localhost:8080/",
          "height": 281
        },
        "id": "gD9dUhMfpgGF",
        "outputId": "ca97d016-3352-4707-d3e7-7844ad6677d2"
      },
      "execution_count": null,
      "outputs": [
        {
          "output_type": "display_data",
          "data": {
            "text/plain": [
              "<Figure size 864x288 with 2 Axes>"
            ],
            "image/png": "[encoded data removed]"
          },
          "metadata": {
            "needs_background": "light"
          }
        }
      ]
    },
    {
      "cell_type": "markdown",
      "source": [
        "# Overfitting and Underfitting (No Graph)"
      ],
      "metadata": {
        "id": "RuqvGZvoriUW"
      }
    },
    {
      "cell_type": "code",
      "source": [
        "print(\"%.3f\"%accuracy_score(GNB.predict(X_train), y_train))\n",
        "print(\"%.3f\"%accuracy_score(GNB.predict(X_test), y_test))"
      ],
      "metadata": {
        "colab": {
          "base_uri": "https://localhost:8080/"
        },
        "id": "W5Z2aB9Mrv4u",
        "outputId": "1f7222d7-c3e1-4cc9-9de7-3fe984b5a4c1"
      },
      "execution_count": null,
      "outputs": [
        {
          "output_type": "stream",
          "name": "stdout",
          "text": [
            "0.817\n",
            "0.818\n"
          ]
        }
      ]
    },
    {
      "cell_type": "code",
      "source": [
        "print(\"%.3f\"%accuracy_score(DT.predict(X_train), y_train))\n",
        "print(\"%.3f\"%accuracy_score(DT.predict(X_test), y_test))"
      ],
      "metadata": {
        "colab": {
          "base_uri": "https://localhost:8080/"
        },
        "id": "DBN1Tb62r1wX",
        "outputId": "d7ec0f1f-29ce-4287-ee50-b0112b31fbdd"
      },
      "execution_count": null,
      "outputs": [
        {
          "output_type": "stream",
          "name": "stdout",
          "text": [
            "0.833\n",
            "0.826\n"
          ]
        }
      ]
    },
    {
      "cell_type": "code",
      "source": [
        "print(\"%.3f\"%accuracy_score(RF.predict(X_train), y_train))\n",
        "print(\"%.3f\"%accuracy_score(RF.predict(X_test), y_test))"
      ],
      "metadata": {
        "colab": {
          "base_uri": "https://localhost:8080/"
        },
        "id": "V5RiTK-vsJft",
        "outputId": "bc526ec7-6676-411b-8005-a42596b28d01"
      },
      "execution_count": null,
      "outputs": [
        {
          "output_type": "stream",
          "name": "stdout",
          "text": [
            "0.996\n",
            "0.880\n"
          ]
        }
      ]
    },
    {
      "cell_type": "markdown",
      "source": [
        "# Length Only\n"
      ],
      "metadata": {
        "id": "XZOIF_JkM1GS"
      }
    },
    {
      "cell_type": "code",
      "source": [
        "#@title Separación de datos de entrenamiento y de test\n",
        "X = Suicide.values[:,1]\n",
        "X = X.reshape(-1,1)\n",
        "y = Suicide.values[:,0]\n",
        "X_train, X_test, y_train, y_test = train_test_split(X, y, train_size=0.9, random_state=21)\n",
        "y_train=y_train.astype('float64')\n",
        "y_test=y_test.astype('float64')\n",
        "y=y.astype('float64')"
      ],
      "metadata": {
        "id": "sta7LCZjM8r9"
      },
      "execution_count": null,
      "outputs": []
    },
    {
      "cell_type": "markdown",
      "source": [
        "# GaussianNB"
      ],
      "metadata": {
        "id": "ZQ_y4RskNRKO"
      }
    },
    {
      "cell_type": "code",
      "source": [
        "GNB = GaussianNB()\n",
        "GNB.fit(X_train, y_train)\n",
        "print(\"%.3f\"%accuracy_score(GNB.predict(X_test), y_test))"
      ],
      "metadata": {
        "colab": {
          "base_uri": "https://localhost:8080/"
        },
        "id": "wMSJBrYwNJfD",
        "outputId": "6caab3ee-71dd-4131-d40a-fa8853d4d437"
      },
      "execution_count": null,
      "outputs": [
        {
          "output_type": "stream",
          "name": "stdout",
          "text": [
            "0.697\n"
          ]
        }
      ]
    },
    {
      "cell_type": "code",
      "source": [
        "y_pred = GNB.predict(X_test)\n",
        "print(classification_report(y_test, y_pred))"
      ],
      "metadata": {
        "id": "xpMEZ1LdNPkJ",
        "colab": {
          "base_uri": "https://localhost:8080/"
        },
        "outputId": "3091b63f-7d6a-4de3-fabd-af65cebf5d1d"
      },
      "execution_count": null,
      "outputs": [
        {
          "output_type": "stream",
          "name": "stdout",
          "text": [
            "              precision    recall  f1-score   support\n",
            "\n",
            "         0.0       0.66      0.89      0.76     11245\n",
            "         1.0       0.79      0.47      0.59      9651\n",
            "\n",
            "    accuracy                           0.70     20896\n",
            "   macro avg       0.73      0.68      0.68     20896\n",
            "weighted avg       0.72      0.70      0.68     20896\n",
            "\n"
          ]
        }
      ]
    },
    {
      "cell_type": "markdown",
      "source": [
        "# Decision Tree"
      ],
      "metadata": {
        "id": "Z11weijuSKJl"
      }
    },
    {
      "cell_type": "code",
      "source": [
        "DT = DecisionTreeClassifier(max_depth=10)\n",
        "DT.fit(X_train,y_train)\n",
        "print(accuracy_score(DT.predict(X_test), y_test))"
      ],
      "metadata": {
        "colab": {
          "base_uri": "https://localhost:8080/"
        },
        "id": "ObBcpIq-SZ1-",
        "outputId": "6997773c-ae43-4151-b3a4-cfc514f84131"
      },
      "execution_count": null,
      "outputs": [
        {
          "output_type": "stream",
          "name": "stdout",
          "text": [
            "0.7315275650842267\n"
          ]
        }
      ]
    },
    {
      "cell_type": "code",
      "source": [
        "y_pred = DT.predict(X_test)\n",
        "print(classification_report(y_test, y_pred))"
      ],
      "metadata": {
        "colab": {
          "base_uri": "https://localhost:8080/"
        },
        "id": "-gTW6n4WSiD0",
        "outputId": "f42e907a-d315-45b7-9712-947add797490"
      },
      "execution_count": null,
      "outputs": [
        {
          "output_type": "stream",
          "name": "stdout",
          "text": [
            "              precision    recall  f1-score   support\n",
            "\n",
            "         0.0       0.74      0.77      0.75     11245\n",
            "         1.0       0.72      0.69      0.70      9651\n",
            "\n",
            "    accuracy                           0.73     20896\n",
            "   macro avg       0.73      0.73      0.73     20896\n",
            "weighted avg       0.73      0.73      0.73     20896\n",
            "\n"
          ]
        }
      ]
    },
    {
      "cell_type": "markdown",
      "source": [
        "# Random Forest"
      ],
      "metadata": {
        "id": "0WXCN1CkSM_k"
      }
    },
    {
      "cell_type": "code",
      "source": [
        "RF = RandomForestClassifier()\n",
        "RF.fit(X_train,y_train)\n",
        "print(accuracy_score(RF.predict(X_test), y_test))"
      ],
      "metadata": {
        "colab": {
          "base_uri": "https://localhost:8080/"
        },
        "id": "0ouCJ5UhSoDw",
        "outputId": "95c03c43-6f58-47d2-9ab6-d61ab01725f7"
      },
      "execution_count": null,
      "outputs": [
        {
          "output_type": "stream",
          "name": "stdout",
          "text": [
            "0.7312404287901991\n"
          ]
        }
      ]
    },
    {
      "cell_type": "code",
      "source": [
        "y_pred = RF.predict(X_test)\n",
        "print(classification_report(y_test, y_pred))"
      ],
      "metadata": {
        "colab": {
          "base_uri": "https://localhost:8080/"
        },
        "id": "rnpXsDm6Sq_g",
        "outputId": "c6956e0a-856c-4ed5-a60c-b3af06f370b0"
      },
      "execution_count": null,
      "outputs": [
        {
          "output_type": "stream",
          "name": "stdout",
          "text": [
            "              precision    recall  f1-score   support\n",
            "\n",
            "         0.0       0.74      0.77      0.76     11245\n",
            "         1.0       0.72      0.69      0.70      9651\n",
            "\n",
            "    accuracy                           0.73     20896\n",
            "   macro avg       0.73      0.73      0.73     20896\n",
            "weighted avg       0.73      0.73      0.73     20896\n",
            "\n"
          ]
        }
      ]
    },
    {
      "cell_type": "markdown",
      "source": [
        "# Overfitting and Underfitting"
      ],
      "metadata": {
        "id": "LAdMEEUmSOga"
      }
    },
    {
      "cell_type": "code",
      "source": [
        "print(\"%.3f\"%accuracy_score(GNB.predict(X_train), y_train))\n",
        "print(\"%.3f\"%accuracy_score(GNB.predict(X_test), y_test))"
      ],
      "metadata": {
        "colab": {
          "base_uri": "https://localhost:8080/"
        },
        "id": "KD74_tEmUUOe",
        "outputId": "e1038505-b471-4997-ae4d-d2f47c7a0ddd"
      },
      "execution_count": null,
      "outputs": [
        {
          "output_type": "stream",
          "name": "stdout",
          "text": [
            "0.700\n",
            "0.697\n"
          ]
        }
      ]
    },
    {
      "cell_type": "code",
      "source": [
        "print(\"%.3f\"%accuracy_score(DT.predict(X_train), y_train))\n",
        "print(\"%.3f\"%accuracy_score(DT.predict(X_test), y_test))"
      ],
      "metadata": {
        "colab": {
          "base_uri": "https://localhost:8080/"
        },
        "id": "y8yRbr-eUmQQ",
        "outputId": "965788b9-64f9-4238-b961-28cf09b97049"
      },
      "execution_count": null,
      "outputs": [
        {
          "output_type": "stream",
          "name": "stdout",
          "text": [
            "0.734\n",
            "0.732\n"
          ]
        }
      ]
    },
    {
      "cell_type": "code",
      "source": [
        "print(\"%.3f\"%accuracy_score(RF.predict(X_train), y_train))\n",
        "print(\"%.3f\"%accuracy_score(RF.predict(X_test), y_test))"
      ],
      "metadata": {
        "colab": {
          "base_uri": "https://localhost:8080/"
        },
        "id": "J3X-aHEKUovv",
        "outputId": "70a8dd52-d506-41b3-cf0b-653a799ce510"
      },
      "execution_count": null,
      "outputs": [
        {
          "output_type": "stream",
          "name": "stdout",
          "text": [
            "0.734\n",
            "0.731\n"
          ]
        }
      ]
    },
    {
      "cell_type": "markdown",
      "source": [
        "# Words Only"
      ],
      "metadata": {
        "id": "ZP4W-2ocUvYG"
      }
    },
    {
      "cell_type": "code",
      "source": [
        "#@title Separación de datos de entrenamiento y de test\n",
        "X = Suicide.values[:,2:]\n",
        "y = Suicide.values[:,0]\n",
        "X_train, X_test, y_train, y_test = train_test_split(X, y, train_size=0.9, random_state=21)\n",
        "y_train=y_train.astype('float64')\n",
        "y_test=y_test.astype('float64')\n",
        "y=y.astype('float64')"
      ],
      "metadata": {
        "cellView": "form",
        "id": "0mcNvAxSUxWK"
      },
      "execution_count": null,
      "outputs": []
    },
    {
      "cell_type": "markdown",
      "source": [
        "# Gaussian NB"
      ],
      "metadata": {
        "id": "g-1NjfM9U-QS"
      }
    },
    {
      "cell_type": "code",
      "source": [
        "GNB = GaussianNB()\n",
        "GNB.fit(X_train, y_train)\n",
        "print(\"%.3f\"%accuracy_score(GNB.predict(X_test), y_test))"
      ],
      "metadata": {
        "colab": {
          "base_uri": "https://localhost:8080/"
        },
        "id": "69f3FxVbVAPS",
        "outputId": "dd3e260d-9601-4b63-d2e8-adbbc25c43b1"
      },
      "execution_count": null,
      "outputs": [
        {
          "output_type": "stream",
          "name": "stdout",
          "text": [
            "0.816\n"
          ]
        }
      ]
    },
    {
      "cell_type": "code",
      "source": [
        "y_pred = GNB.predict(X_test)\n",
        "print(classification_report(y_test, y_pred))"
      ],
      "metadata": {
        "colab": {
          "base_uri": "https://localhost:8080/"
        },
        "id": "NgML1iHvVERz",
        "outputId": "3a1d5f8b-7a50-42e2-8259-0e69194d6072"
      },
      "execution_count": null,
      "outputs": [
        {
          "output_type": "stream",
          "name": "stdout",
          "text": [
            "              precision    recall  f1-score   support\n",
            "\n",
            "         0.0       0.83      0.84      0.83     11245\n",
            "         1.0       0.81      0.79      0.80      9651\n",
            "\n",
            "    accuracy                           0.82     20896\n",
            "   macro avg       0.82      0.81      0.82     20896\n",
            "weighted avg       0.82      0.82      0.82     20896\n",
            "\n"
          ]
        }
      ]
    },
    {
      "cell_type": "markdown",
      "source": [
        "# Decision Tree"
      ],
      "metadata": {
        "id": "LyeZX9alVJot"
      }
    },
    {
      "cell_type": "code",
      "source": [
        "DT = DecisionTreeClassifier(max_depth=10)\n",
        "DT.fit(X_train,y_train)\n",
        "print(accuracy_score(DT.predict(X_test), y_test))"
      ],
      "metadata": {
        "colab": {
          "base_uri": "https://localhost:8080/"
        },
        "id": "d1yHZ7xLVLjp",
        "outputId": "8ebdeb6d-8672-4da3-dc85-b3a43a5d5446"
      },
      "execution_count": null,
      "outputs": [
        {
          "output_type": "stream",
          "name": "stdout",
          "text": [
            "0.8236504594180705\n"
          ]
        }
      ]
    },
    {
      "cell_type": "code",
      "source": [
        "y_pred = DT.predict(X_test)\n",
        "print(classification_report(y_test, y_pred))"
      ],
      "metadata": {
        "colab": {
          "base_uri": "https://localhost:8080/"
        },
        "id": "j3XaaSpBVOnx",
        "outputId": "6afac07a-cc1f-4ad1-d7cd-152f38e4c770"
      },
      "execution_count": null,
      "outputs": [
        {
          "output_type": "stream",
          "name": "stdout",
          "text": [
            "              precision    recall  f1-score   support\n",
            "\n",
            "         0.0       0.80      0.89      0.85     11245\n",
            "         1.0       0.86      0.74      0.80      9651\n",
            "\n",
            "    accuracy                           0.82     20896\n",
            "   macro avg       0.83      0.82      0.82     20896\n",
            "weighted avg       0.83      0.82      0.82     20896\n",
            "\n"
          ]
        }
      ]
    },
    {
      "cell_type": "markdown",
      "source": [
        "# Random Forest"
      ],
      "metadata": {
        "id": "uF9LZgihVTcq"
      }
    },
    {
      "cell_type": "code",
      "source": [
        "RF = RandomForestClassifier()\n",
        "RF.fit(X_train,y_train)\n",
        "print(accuracy_score(RF.predict(X_test), y_test))"
      ],
      "metadata": {
        "colab": {
          "base_uri": "https://localhost:8080/"
        },
        "id": "iyrl0M4lVVXU",
        "outputId": "40a18bed-8d09-4b77-eeb9-0b7e99a95de2"
      },
      "execution_count": null,
      "outputs": [
        {
          "output_type": "stream",
          "name": "stdout",
          "text": [
            "0.8801205972434916\n"
          ]
        }
      ]
    },
    {
      "cell_type": "code",
      "source": [
        "y_pred = RF.predict(X_test)\n",
        "print(classification_report(y_test, y_pred))"
      ],
      "metadata": {
        "colab": {
          "base_uri": "https://localhost:8080/"
        },
        "id": "EYOUgNDjVYsa",
        "outputId": "7c9ca16d-76d7-4b4b-a0e3-07f896a28dae"
      },
      "execution_count": null,
      "outputs": [
        {
          "output_type": "stream",
          "name": "stdout",
          "text": [
            "              precision    recall  f1-score   support\n",
            "\n",
            "         0.0       0.89      0.89      0.89     11245\n",
            "         1.0       0.87      0.87      0.87      9651\n",
            "\n",
            "    accuracy                           0.88     20896\n",
            "   macro avg       0.88      0.88      0.88     20896\n",
            "weighted avg       0.88      0.88      0.88     20896\n",
            "\n"
          ]
        }
      ]
    },
    {
      "cell_type": "markdown",
      "source": [
        "# Overfitting and Underfitting"
      ],
      "metadata": {
        "id": "12a1-Y22WQFl"
      }
    },
    {
      "cell_type": "code",
      "source": [
        "print(\"%.3f\"%accuracy_score(GNB.predict(X_train), y_train))\n",
        "print(\"%.3f\"%accuracy_score(GNB.predict(X_test), y_test))"
      ],
      "metadata": {
        "colab": {
          "base_uri": "https://localhost:8080/"
        },
        "id": "iChW5AwFWTMH",
        "outputId": "8a7e695a-4109-4b4f-d626-ec78099c21f5"
      },
      "execution_count": null,
      "outputs": [
        {
          "output_type": "stream",
          "name": "stdout",
          "text": [
            "0.817\n",
            "0.816\n"
          ]
        }
      ]
    },
    {
      "cell_type": "code",
      "source": [
        "print(\"%.3f\"%accuracy_score(DT.predict(X_train), y_train))\n",
        "print(\"%.3f\"%accuracy_score(DT.predict(X_test), y_test))"
      ],
      "metadata": {
        "colab": {
          "base_uri": "https://localhost:8080/"
        },
        "id": "SNZv3DY3WWwl",
        "outputId": "93baa2d1-c857-46ab-a8b3-1abd2618e819"
      },
      "execution_count": null,
      "outputs": [
        {
          "output_type": "stream",
          "name": "stdout",
          "text": [
            "0.831\n",
            "0.824\n"
          ]
        }
      ]
    },
    {
      "cell_type": "code",
      "source": [
        "print(\"%.3f\"%accuracy_score(RF.predict(X_train), y_train))\n",
        "print(\"%.3f\"%accuracy_score(RF.predict(X_test), y_test))"
      ],
      "metadata": {
        "colab": {
          "base_uri": "https://localhost:8080/"
        },
        "id": "bi1jF2g8WaRK",
        "outputId": "cd115d41-6c35-4b97-b58c-41ecb11c8781"
      },
      "execution_count": null,
      "outputs": [
        {
          "output_type": "stream",
          "name": "stdout",
          "text": [
            "0.992\n",
            "0.880\n"
          ]
        }
      ]
    }
  ]
}